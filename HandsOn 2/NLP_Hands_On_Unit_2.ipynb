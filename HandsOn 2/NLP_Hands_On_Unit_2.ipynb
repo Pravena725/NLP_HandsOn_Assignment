{
  "nbformat": 4,
  "nbformat_minor": 0,
  "metadata": {
    "colab": {
      "name": "NLP Hands-On Unit 2",
      "provenance": []
    },
    "kernelspec": {
      "name": "python3",
      "display_name": "Python 3"
    },
    "language_info": {
      "name": "python"
    }
  },
  "cells": [
    {
      "cell_type": "markdown",
      "source": [
        "**Installations Required**"
      ],
      "metadata": {
        "id": "GygAV57RPRan"
      }
    },
    {
      "cell_type": "code",
      "execution_count": null,
      "metadata": {
        "colab": {
          "base_uri": "https://localhost:8080/"
        },
        "id": "QLD8zLXpMFDi",
        "outputId": "50d9baed-8c29-41bf-e265-5093e13def89"
      },
      "outputs": [
        {
          "output_type": "stream",
          "name": "stdout",
          "text": [
            "Requirement already satisfied: spacy in /usr/local/lib/python3.7/dist-packages (2.2.4)\n",
            "Requirement already satisfied: catalogue<1.1.0,>=0.0.7 in /usr/local/lib/python3.7/dist-packages (from spacy) (1.0.0)\n",
            "Requirement already satisfied: requests<3.0.0,>=2.13.0 in /usr/local/lib/python3.7/dist-packages (from spacy) (2.23.0)\n",
            "Requirement already satisfied: thinc==7.4.0 in /usr/local/lib/python3.7/dist-packages (from spacy) (7.4.0)\n",
            "Requirement already satisfied: cymem<2.1.0,>=2.0.2 in /usr/local/lib/python3.7/dist-packages (from spacy) (2.0.6)\n",
            "Requirement already satisfied: srsly<1.1.0,>=1.0.2 in /usr/local/lib/python3.7/dist-packages (from spacy) (1.0.5)\n",
            "Requirement already satisfied: blis<0.5.0,>=0.4.0 in /usr/local/lib/python3.7/dist-packages (from spacy) (0.4.1)\n",
            "Requirement already satisfied: setuptools in /usr/local/lib/python3.7/dist-packages (from spacy) (57.4.0)\n",
            "Requirement already satisfied: murmurhash<1.1.0,>=0.28.0 in /usr/local/lib/python3.7/dist-packages (from spacy) (1.0.6)\n",
            "Requirement already satisfied: plac<1.2.0,>=0.9.6 in /usr/local/lib/python3.7/dist-packages (from spacy) (1.1.3)\n",
            "Requirement already satisfied: wasabi<1.1.0,>=0.4.0 in /usr/local/lib/python3.7/dist-packages (from spacy) (0.9.0)\n",
            "Requirement already satisfied: preshed<3.1.0,>=3.0.2 in /usr/local/lib/python3.7/dist-packages (from spacy) (3.0.6)\n",
            "Requirement already satisfied: numpy>=1.15.0 in /usr/local/lib/python3.7/dist-packages (from spacy) (1.21.5)\n",
            "Requirement already satisfied: tqdm<5.0.0,>=4.38.0 in /usr/local/lib/python3.7/dist-packages (from spacy) (4.62.3)\n",
            "Requirement already satisfied: importlib-metadata>=0.20 in /usr/local/lib/python3.7/dist-packages (from catalogue<1.1.0,>=0.0.7->spacy) (4.11.1)\n",
            "Requirement already satisfied: typing-extensions>=3.6.4 in /usr/local/lib/python3.7/dist-packages (from importlib-metadata>=0.20->catalogue<1.1.0,>=0.0.7->spacy) (3.10.0.2)\n",
            "Requirement already satisfied: zipp>=0.5 in /usr/local/lib/python3.7/dist-packages (from importlib-metadata>=0.20->catalogue<1.1.0,>=0.0.7->spacy) (3.7.0)\n",
            "Requirement already satisfied: certifi>=2017.4.17 in /usr/local/lib/python3.7/dist-packages (from requests<3.0.0,>=2.13.0->spacy) (2021.10.8)\n",
            "Requirement already satisfied: urllib3!=1.25.0,!=1.25.1,<1.26,>=1.21.1 in /usr/local/lib/python3.7/dist-packages (from requests<3.0.0,>=2.13.0->spacy) (1.24.3)\n",
            "Requirement already satisfied: chardet<4,>=3.0.2 in /usr/local/lib/python3.7/dist-packages (from requests<3.0.0,>=2.13.0->spacy) (3.0.4)\n",
            "Requirement already satisfied: idna<3,>=2.5 in /usr/local/lib/python3.7/dist-packages (from requests<3.0.0,>=2.13.0->spacy) (2.10)\n"
          ]
        }
      ],
      "source": [
        "!pip install spacy"
      ]
    },
    {
      "cell_type": "code",
      "source": [
        "!python -m spacy download en_core_web_sm"
      ],
      "metadata": {
        "colab": {
          "base_uri": "https://localhost:8080/"
        },
        "id": "JDx2QUODOLbO",
        "outputId": "421c592f-3d3e-490d-b75a-2a626cf7c42c"
      },
      "execution_count": null,
      "outputs": [
        {
          "output_type": "stream",
          "name": "stdout",
          "text": [
            "Collecting en_core_web_sm==2.2.5\n",
            "  Downloading https://github.com/explosion/spacy-models/releases/download/en_core_web_sm-2.2.5/en_core_web_sm-2.2.5.tar.gz (12.0 MB)\n",
            "\u001b[K     |████████████████████████████████| 12.0 MB 2.2 MB/s \n",
            "\u001b[?25hRequirement already satisfied: spacy>=2.2.2 in /usr/local/lib/python3.7/dist-packages (from en_core_web_sm==2.2.5) (2.2.4)\n",
            "Requirement already satisfied: wasabi<1.1.0,>=0.4.0 in /usr/local/lib/python3.7/dist-packages (from spacy>=2.2.2->en_core_web_sm==2.2.5) (0.9.0)\n",
            "Requirement already satisfied: catalogue<1.1.0,>=0.0.7 in /usr/local/lib/python3.7/dist-packages (from spacy>=2.2.2->en_core_web_sm==2.2.5) (1.0.0)\n",
            "Requirement already satisfied: cymem<2.1.0,>=2.0.2 in /usr/local/lib/python3.7/dist-packages (from spacy>=2.2.2->en_core_web_sm==2.2.5) (2.0.6)\n",
            "Requirement already satisfied: thinc==7.4.0 in /usr/local/lib/python3.7/dist-packages (from spacy>=2.2.2->en_core_web_sm==2.2.5) (7.4.0)\n",
            "Requirement already satisfied: tqdm<5.0.0,>=4.38.0 in /usr/local/lib/python3.7/dist-packages (from spacy>=2.2.2->en_core_web_sm==2.2.5) (4.62.3)\n",
            "Requirement already satisfied: requests<3.0.0,>=2.13.0 in /usr/local/lib/python3.7/dist-packages (from spacy>=2.2.2->en_core_web_sm==2.2.5) (2.23.0)\n",
            "Requirement already satisfied: murmurhash<1.1.0,>=0.28.0 in /usr/local/lib/python3.7/dist-packages (from spacy>=2.2.2->en_core_web_sm==2.2.5) (1.0.6)\n",
            "Requirement already satisfied: srsly<1.1.0,>=1.0.2 in /usr/local/lib/python3.7/dist-packages (from spacy>=2.2.2->en_core_web_sm==2.2.5) (1.0.5)\n",
            "Requirement already satisfied: setuptools in /usr/local/lib/python3.7/dist-packages (from spacy>=2.2.2->en_core_web_sm==2.2.5) (57.4.0)\n",
            "Requirement already satisfied: plac<1.2.0,>=0.9.6 in /usr/local/lib/python3.7/dist-packages (from spacy>=2.2.2->en_core_web_sm==2.2.5) (1.1.3)\n",
            "Requirement already satisfied: blis<0.5.0,>=0.4.0 in /usr/local/lib/python3.7/dist-packages (from spacy>=2.2.2->en_core_web_sm==2.2.5) (0.4.1)\n",
            "Requirement already satisfied: preshed<3.1.0,>=3.0.2 in /usr/local/lib/python3.7/dist-packages (from spacy>=2.2.2->en_core_web_sm==2.2.5) (3.0.6)\n",
            "Requirement already satisfied: numpy>=1.15.0 in /usr/local/lib/python3.7/dist-packages (from spacy>=2.2.2->en_core_web_sm==2.2.5) (1.21.5)\n",
            "Requirement already satisfied: importlib-metadata>=0.20 in /usr/local/lib/python3.7/dist-packages (from catalogue<1.1.0,>=0.0.7->spacy>=2.2.2->en_core_web_sm==2.2.5) (4.11.1)\n",
            "Requirement already satisfied: typing-extensions>=3.6.4 in /usr/local/lib/python3.7/dist-packages (from importlib-metadata>=0.20->catalogue<1.1.0,>=0.0.7->spacy>=2.2.2->en_core_web_sm==2.2.5) (3.10.0.2)\n",
            "Requirement already satisfied: zipp>=0.5 in /usr/local/lib/python3.7/dist-packages (from importlib-metadata>=0.20->catalogue<1.1.0,>=0.0.7->spacy>=2.2.2->en_core_web_sm==2.2.5) (3.7.0)\n",
            "Requirement already satisfied: certifi>=2017.4.17 in /usr/local/lib/python3.7/dist-packages (from requests<3.0.0,>=2.13.0->spacy>=2.2.2->en_core_web_sm==2.2.5) (2021.10.8)\n",
            "Requirement already satisfied: idna<3,>=2.5 in /usr/local/lib/python3.7/dist-packages (from requests<3.0.0,>=2.13.0->spacy>=2.2.2->en_core_web_sm==2.2.5) (2.10)\n",
            "Requirement already satisfied: chardet<4,>=3.0.2 in /usr/local/lib/python3.7/dist-packages (from requests<3.0.0,>=2.13.0->spacy>=2.2.2->en_core_web_sm==2.2.5) (3.0.4)\n",
            "Requirement already satisfied: urllib3!=1.25.0,!=1.25.1,<1.26,>=1.21.1 in /usr/local/lib/python3.7/dist-packages (from requests<3.0.0,>=2.13.0->spacy>=2.2.2->en_core_web_sm==2.2.5) (1.24.3)\n",
            "\u001b[38;5;2m✔ Download and installation successful\u001b[0m\n",
            "You can now load the model via spacy.load('en_core_web_sm')\n"
          ]
        }
      ]
    },
    {
      "cell_type": "code",
      "source": [
        "!pip install --upgrade gensim"
      ],
      "metadata": {
        "colab": {
          "base_uri": "https://localhost:8080/"
        },
        "id": "70c7lJ-sOg68",
        "outputId": "96eaaf78-9180-4ab3-9321-85a48cc0e964"
      },
      "execution_count": null,
      "outputs": [
        {
          "output_type": "stream",
          "name": "stdout",
          "text": [
            "Requirement already satisfied: gensim in /usr/local/lib/python3.7/dist-packages (3.6.0)\n",
            "Collecting gensim\n",
            "  Downloading gensim-4.1.2-cp37-cp37m-manylinux_2_12_x86_64.manylinux2010_x86_64.whl (24.1 MB)\n",
            "\u001b[K     |████████████████████████████████| 24.1 MB 1.1 MB/s \n",
            "\u001b[?25hRequirement already satisfied: smart-open>=1.8.1 in /usr/local/lib/python3.7/dist-packages (from gensim) (5.2.1)\n",
            "Requirement already satisfied: numpy>=1.17.0 in /usr/local/lib/python3.7/dist-packages (from gensim) (1.21.5)\n",
            "Requirement already satisfied: scipy>=0.18.1 in /usr/local/lib/python3.7/dist-packages (from gensim) (1.4.1)\n",
            "Installing collected packages: gensim\n",
            "  Attempting uninstall: gensim\n",
            "    Found existing installation: gensim 3.6.0\n",
            "    Uninstalling gensim-3.6.0:\n",
            "      Successfully uninstalled gensim-3.6.0\n",
            "Successfully installed gensim-4.1.2\n"
          ]
        }
      ]
    },
    {
      "cell_type": "code",
      "source": [
        "!pip install -U nltk"
      ],
      "metadata": {
        "colab": {
          "base_uri": "https://localhost:8080/"
        },
        "id": "mxT2gPL8OnRE",
        "outputId": "de9c2417-20d2-4cf1-c4e6-5b83493d1e77"
      },
      "execution_count": null,
      "outputs": [
        {
          "output_type": "stream",
          "name": "stdout",
          "text": [
            "Requirement already satisfied: nltk in /usr/local/lib/python3.7/dist-packages (3.2.5)\n",
            "Collecting nltk\n",
            "  Downloading nltk-3.7-py3-none-any.whl (1.5 MB)\n",
            "\u001b[K     |████████████████████████████████| 1.5 MB 14.2 MB/s \n",
            "\u001b[?25hRequirement already satisfied: click in /usr/local/lib/python3.7/dist-packages (from nltk) (7.1.2)\n",
            "Requirement already satisfied: tqdm in /usr/local/lib/python3.7/dist-packages (from nltk) (4.62.3)\n",
            "Collecting regex>=2021.8.3\n",
            "  Downloading regex-2022.3.2-cp37-cp37m-manylinux_2_17_x86_64.manylinux2014_x86_64.whl (749 kB)\n",
            "\u001b[K     |████████████████████████████████| 749 kB 59.3 MB/s \n",
            "\u001b[?25hRequirement already satisfied: joblib in /usr/local/lib/python3.7/dist-packages (from nltk) (1.1.0)\n",
            "Installing collected packages: regex, nltk\n",
            "  Attempting uninstall: regex\n",
            "    Found existing installation: regex 2019.12.20\n",
            "    Uninstalling regex-2019.12.20:\n",
            "      Successfully uninstalled regex-2019.12.20\n",
            "  Attempting uninstall: nltk\n",
            "    Found existing installation: nltk 3.2.5\n",
            "    Uninstalling nltk-3.2.5:\n",
            "      Successfully uninstalled nltk-3.2.5\n",
            "Successfully installed nltk-3.7 regex-2022.3.2\n"
          ]
        }
      ]
    },
    {
      "cell_type": "code",
      "source": [
        "!python -m spacy download en_core_web_md "
      ],
      "metadata": {
        "colab": {
          "base_uri": "https://localhost:8080/"
        },
        "id": "3CMdO3Y5Orwy",
        "outputId": "b424a432-5f1b-43e6-f117-7c3fb9d7a7a6"
      },
      "execution_count": null,
      "outputs": [
        {
          "output_type": "stream",
          "name": "stdout",
          "text": [
            "Collecting en_core_web_md==2.2.5\n",
            "  Downloading https://github.com/explosion/spacy-models/releases/download/en_core_web_md-2.2.5/en_core_web_md-2.2.5.tar.gz (96.4 MB)\n",
            "\u001b[K     |████████████████████████████████| 96.4 MB 1.1 MB/s \n",
            "\u001b[?25hRequirement already satisfied: spacy>=2.2.2 in /usr/local/lib/python3.7/dist-packages (from en_core_web_md==2.2.5) (2.2.4)\n",
            "Requirement already satisfied: srsly<1.1.0,>=1.0.2 in /usr/local/lib/python3.7/dist-packages (from spacy>=2.2.2->en_core_web_md==2.2.5) (1.0.5)\n",
            "Requirement already satisfied: setuptools in /usr/local/lib/python3.7/dist-packages (from spacy>=2.2.2->en_core_web_md==2.2.5) (57.4.0)\n",
            "Requirement already satisfied: preshed<3.1.0,>=3.0.2 in /usr/local/lib/python3.7/dist-packages (from spacy>=2.2.2->en_core_web_md==2.2.5) (3.0.6)\n",
            "Requirement already satisfied: requests<3.0.0,>=2.13.0 in /usr/local/lib/python3.7/dist-packages (from spacy>=2.2.2->en_core_web_md==2.2.5) (2.23.0)\n",
            "Requirement already satisfied: thinc==7.4.0 in /usr/local/lib/python3.7/dist-packages (from spacy>=2.2.2->en_core_web_md==2.2.5) (7.4.0)\n",
            "Requirement already satisfied: cymem<2.1.0,>=2.0.2 in /usr/local/lib/python3.7/dist-packages (from spacy>=2.2.2->en_core_web_md==2.2.5) (2.0.6)\n",
            "Requirement already satisfied: tqdm<5.0.0,>=4.38.0 in /usr/local/lib/python3.7/dist-packages (from spacy>=2.2.2->en_core_web_md==2.2.5) (4.62.3)\n",
            "Requirement already satisfied: blis<0.5.0,>=0.4.0 in /usr/local/lib/python3.7/dist-packages (from spacy>=2.2.2->en_core_web_md==2.2.5) (0.4.1)\n",
            "Requirement already satisfied: murmurhash<1.1.0,>=0.28.0 in /usr/local/lib/python3.7/dist-packages (from spacy>=2.2.2->en_core_web_md==2.2.5) (1.0.6)\n",
            "Requirement already satisfied: catalogue<1.1.0,>=0.0.7 in /usr/local/lib/python3.7/dist-packages (from spacy>=2.2.2->en_core_web_md==2.2.5) (1.0.0)\n",
            "Requirement already satisfied: numpy>=1.15.0 in /usr/local/lib/python3.7/dist-packages (from spacy>=2.2.2->en_core_web_md==2.2.5) (1.21.5)\n",
            "Requirement already satisfied: plac<1.2.0,>=0.9.6 in /usr/local/lib/python3.7/dist-packages (from spacy>=2.2.2->en_core_web_md==2.2.5) (1.1.3)\n",
            "Requirement already satisfied: wasabi<1.1.0,>=0.4.0 in /usr/local/lib/python3.7/dist-packages (from spacy>=2.2.2->en_core_web_md==2.2.5) (0.9.0)\n",
            "Requirement already satisfied: importlib-metadata>=0.20 in /usr/local/lib/python3.7/dist-packages (from catalogue<1.1.0,>=0.0.7->spacy>=2.2.2->en_core_web_md==2.2.5) (4.11.1)\n",
            "Requirement already satisfied: zipp>=0.5 in /usr/local/lib/python3.7/dist-packages (from importlib-metadata>=0.20->catalogue<1.1.0,>=0.0.7->spacy>=2.2.2->en_core_web_md==2.2.5) (3.7.0)\n",
            "Requirement already satisfied: typing-extensions>=3.6.4 in /usr/local/lib/python3.7/dist-packages (from importlib-metadata>=0.20->catalogue<1.1.0,>=0.0.7->spacy>=2.2.2->en_core_web_md==2.2.5) (3.10.0.2)\n",
            "Requirement already satisfied: chardet<4,>=3.0.2 in /usr/local/lib/python3.7/dist-packages (from requests<3.0.0,>=2.13.0->spacy>=2.2.2->en_core_web_md==2.2.5) (3.0.4)\n",
            "Requirement already satisfied: urllib3!=1.25.0,!=1.25.1,<1.26,>=1.21.1 in /usr/local/lib/python3.7/dist-packages (from requests<3.0.0,>=2.13.0->spacy>=2.2.2->en_core_web_md==2.2.5) (1.24.3)\n",
            "Requirement already satisfied: idna<3,>=2.5 in /usr/local/lib/python3.7/dist-packages (from requests<3.0.0,>=2.13.0->spacy>=2.2.2->en_core_web_md==2.2.5) (2.10)\n",
            "Requirement already satisfied: certifi>=2017.4.17 in /usr/local/lib/python3.7/dist-packages (from requests<3.0.0,>=2.13.0->spacy>=2.2.2->en_core_web_md==2.2.5) (2021.10.8)\n",
            "Building wheels for collected packages: en-core-web-md\n",
            "  Building wheel for en-core-web-md (setup.py) ... \u001b[?25l\u001b[?25hdone\n",
            "  Created wheel for en-core-web-md: filename=en_core_web_md-2.2.5-py3-none-any.whl size=98051301 sha256=611ca98d06b5d07129bc825768be2b2824e22cba8533d7fcaacf74f0929f2c6a\n",
            "  Stored in directory: /tmp/pip-ephem-wheel-cache-fjmhyl5j/wheels/69/c5/b8/4f1c029d89238734311b3269762ab2ee325a42da2ce8edb997\n",
            "Successfully built en-core-web-md\n",
            "Installing collected packages: en-core-web-md\n",
            "Successfully installed en-core-web-md-2.2.5\n",
            "\u001b[38;5;2m✔ Download and installation successful\u001b[0m\n",
            "You can now load the model via spacy.load('en_core_web_md')\n"
          ]
        }
      ]
    },
    {
      "cell_type": "code",
      "source": [
        "import nltk\n",
        "nltk.download('punkt')\n",
        "nltk.download('wordnet')\n",
        "nltk.download('averaged_perceptron_tagger')\n",
        "nltk.download('omw-1.4')"
      ],
      "metadata": {
        "colab": {
          "base_uri": "https://localhost:8080/"
        },
        "id": "vHGBxBQMO-S5",
        "outputId": "bfeea3e7-7f28-4bb4-9e89-0c2aef7e924e"
      },
      "execution_count": null,
      "outputs": [
        {
          "output_type": "stream",
          "name": "stderr",
          "text": [
            "[nltk_data] Downloading package punkt to /root/nltk_data...\n",
            "[nltk_data]   Unzipping tokenizers/punkt.zip.\n",
            "[nltk_data] Downloading package wordnet to /root/nltk_data...\n",
            "[nltk_data]   Unzipping corpora/wordnet.zip.\n",
            "[nltk_data] Downloading package averaged_perceptron_tagger to\n",
            "[nltk_data]     /root/nltk_data...\n",
            "[nltk_data]   Unzipping taggers/averaged_perceptron_tagger.zip.\n",
            "[nltk_data] Downloading package omw-1.4 to /root/nltk_data...\n",
            "[nltk_data]   Unzipping corpora/omw-1.4.zip.\n"
          ]
        },
        {
          "output_type": "execute_result",
          "data": {
            "text/plain": [
              "True"
            ]
          },
          "metadata": {},
          "execution_count": 7
        }
      ]
    },
    {
      "cell_type": "code",
      "source": [
        "!pip install scikit-learn"
      ],
      "metadata": {
        "colab": {
          "base_uri": "https://localhost:8080/"
        },
        "id": "yP_dIU4uPJlb",
        "outputId": "cc0ffb30-96bc-46c3-9b31-59d3a87ba8f1"
      },
      "execution_count": null,
      "outputs": [
        {
          "output_type": "stream",
          "name": "stdout",
          "text": [
            "Requirement already satisfied: scikit-learn in /usr/local/lib/python3.7/dist-packages (1.0.2)\n",
            "Requirement already satisfied: joblib>=0.11 in /usr/local/lib/python3.7/dist-packages (from scikit-learn) (1.1.0)\n",
            "Requirement already satisfied: threadpoolctl>=2.0.0 in /usr/local/lib/python3.7/dist-packages (from scikit-learn) (3.1.0)\n",
            "Requirement already satisfied: scipy>=1.1.0 in /usr/local/lib/python3.7/dist-packages (from scikit-learn) (1.4.1)\n",
            "Requirement already satisfied: numpy>=1.14.6 in /usr/local/lib/python3.7/dist-packages (from scikit-learn) (1.21.5)\n"
          ]
        }
      ]
    },
    {
      "cell_type": "code",
      "source": [
        "!pip install scipy"
      ],
      "metadata": {
        "colab": {
          "base_uri": "https://localhost:8080/"
        },
        "id": "q0HsGgwfPN-T",
        "outputId": "6bf1bc87-8fe4-4af1-e40f-90950be5b0d1"
      },
      "execution_count": null,
      "outputs": [
        {
          "output_type": "stream",
          "name": "stdout",
          "text": [
            "Requirement already satisfied: scipy in /usr/local/lib/python3.7/dist-packages (1.4.1)\n",
            "Requirement already satisfied: numpy>=1.13.3 in /usr/local/lib/python3.7/dist-packages (from scipy) (1.21.5)\n"
          ]
        }
      ]
    },
    {
      "cell_type": "code",
      "source": [
        "import spacy\n",
        "nlp=spacy.load(\"en_core_web_sm\")\n"
      ],
      "metadata": {
        "id": "Ilbwkakz9UcI"
      },
      "execution_count": null,
      "outputs": []
    },
    {
      "cell_type": "code",
      "source": [
        "txt1 = \"Rajiv Ratna Gandhi was an Indian politician who served as the sixth prime minister of India from 1984 to 1989. He took office after the 1984 assassination of his mother, then Prime Minister Indira Gandhi, to become the youngest Indian Prime minister at the age of 40. Gandhi was from the politically powerful Nehru–Gandhi family, which had been associated with the Indian National Congress party. For much of his childhood, his maternal grandfather Jawaharlal Nehru was prime minister. Gandhi attended college in the United Kingdom. He returned to India in 1966 and became a professional pilot for the state-owned Indian Airlines. In 1968, he married Sonia Gandhi; the couple settled in Delhi to a domestic life with their children Rahul Gandhi and Priyanka Gandhi Vadra. For much of the 1970s, his mother Indira Gandhi was prime minister and his brother Sanjay Gandhi an MP; despite this, Rajiv Gandhi remained apolitical. After Sanjay's death in a plane crash in 1980, Gandhi reluctantly entered politics at the behest of Indira. The following year he won his brother's Parliamentary seat of Amethi and became a member of the Lok Sabha—the lower house of India's Parliament. As part of his political grooming, Rajiv was made general secretary of the Congress party and given significant responsibility in organising the 1982 Asian Games\"\n",
        "doc1 = nlp(txt1)"
      ],
      "metadata": {
        "id": "f0VMxn_Q8OE9"
      },
      "execution_count": null,
      "outputs": []
    },
    {
      "cell_type": "code",
      "source": [
        "print(doc1.sents)\n",
        "for i in list(doc1.sents):\n",
        "  print(i)\n",
        "  print('\\n')\n",
        "  "
      ],
      "metadata": {
        "colab": {
          "base_uri": "https://localhost:8080/"
        },
        "id": "lRGegnfr8ne4",
        "outputId": "714b158f-3dc3-4437-c69e-523882bb8db8"
      },
      "execution_count": null,
      "outputs": [
        {
          "output_type": "stream",
          "name": "stdout",
          "text": [
            "<generator object at 0x7f8b520a6b90>\n",
            "Rajiv Ratna Gandhi was an Indian politician who served as the sixth prime minister of India from 1984 to 1989.\n",
            "\n",
            "\n",
            "He took office after the 1984 assassination of his mother, then Prime Minister Indira Gandhi, to become the youngest Indian Prime minister at the age of 40.\n",
            "\n",
            "\n",
            "Gandhi was from the politically powerful Nehru–Gandhi family, which had been associated with the Indian National Congress party.\n",
            "\n",
            "\n",
            "For much of his childhood, his maternal grandfather Jawaharlal Nehru was prime minister.\n",
            "\n",
            "\n",
            "Gandhi attended college in the United Kingdom.\n",
            "\n",
            "\n",
            "He returned to India in 1966 and became a professional pilot for the state-owned Indian Airlines.\n",
            "\n",
            "\n",
            "In 1968, he married Sonia Gandhi; the couple settled in Delhi to a domestic life with their children Rahul Gandhi and Priyanka Gandhi Vadra.\n",
            "\n",
            "\n",
            "For much of the 1970s, his mother Indira Gandhi was prime minister and his brother Sanjay Gandhi an MP; despite this, Rajiv Gandhi remained apolitical.\n",
            "\n",
            "\n",
            "After Sanjay's death in a plane crash in 1980, Gandhi reluctantly entered politics at the behest of Indira.\n",
            "\n",
            "\n",
            "The following year he won his brother's Parliamentary seat of Amethi and became a member of the Lok Sabha—the lower house of India's Parliament.\n",
            "\n",
            "\n",
            "As part of his political grooming, Rajiv was made general secretary of the Congress party and given significant responsibility in organising the 1982 Asian Games\n",
            "\n",
            "\n"
          ]
        }
      ]
    },
    {
      "cell_type": "code",
      "source": [
        "for token in doc1:\n",
        "  print(token)"
      ],
      "metadata": {
        "colab": {
          "base_uri": "https://localhost:8080/"
        },
        "id": "MqAG_iWp82FC",
        "outputId": "784a6e93-8e04-4c4c-b7cf-0f6e3ed6f5da"
      },
      "execution_count": null,
      "outputs": [
        {
          "output_type": "stream",
          "name": "stdout",
          "text": [
            "Rajiv\n",
            "Ratna\n",
            "Gandhi\n",
            "was\n",
            "an\n",
            "Indian\n",
            "politician\n",
            "who\n",
            "served\n",
            "as\n",
            "the\n",
            "sixth\n",
            "prime\n",
            "minister\n",
            "of\n",
            "India\n",
            "from\n",
            "1984\n",
            "to\n",
            "1989\n",
            ".\n",
            "He\n",
            "took\n",
            "office\n",
            "after\n",
            "the\n",
            "1984\n",
            "assassination\n",
            "of\n",
            "his\n",
            "mother\n",
            ",\n",
            "then\n",
            "Prime\n",
            "Minister\n",
            "Indira\n",
            "Gandhi\n",
            ",\n",
            "to\n",
            "become\n",
            "the\n",
            "youngest\n",
            "Indian\n",
            "Prime\n",
            "minister\n",
            "at\n",
            "the\n",
            "age\n",
            "of\n",
            "40\n",
            ".\n",
            "Gandhi\n",
            "was\n",
            "from\n",
            "the\n",
            "politically\n",
            "powerful\n",
            "Nehru\n",
            "–\n",
            "Gandhi\n",
            "family\n",
            ",\n",
            "which\n",
            "had\n",
            "been\n",
            "associated\n",
            "with\n",
            "the\n",
            "Indian\n",
            "National\n",
            "Congress\n",
            "party\n",
            ".\n",
            "For\n",
            "much\n",
            "of\n",
            "his\n",
            "childhood\n",
            ",\n",
            "his\n",
            "maternal\n",
            "grandfather\n",
            "Jawaharlal\n",
            "Nehru\n",
            "was\n",
            "prime\n",
            "minister\n",
            ".\n",
            "Gandhi\n",
            "attended\n",
            "college\n",
            "in\n",
            "the\n",
            "United\n",
            "Kingdom\n",
            ".\n",
            "He\n",
            "returned\n",
            "to\n",
            "India\n",
            "in\n",
            "1966\n",
            "and\n",
            "became\n",
            "a\n",
            "professional\n",
            "pilot\n",
            "for\n",
            "the\n",
            "state\n",
            "-\n",
            "owned\n",
            "Indian\n",
            "Airlines\n",
            ".\n",
            "In\n",
            "1968\n",
            ",\n",
            "he\n",
            "married\n",
            "Sonia\n",
            "Gandhi\n",
            ";\n",
            "the\n",
            "couple\n",
            "settled\n",
            "in\n",
            "Delhi\n",
            "to\n",
            "a\n",
            "domestic\n",
            "life\n",
            "with\n",
            "their\n",
            "children\n",
            "Rahul\n",
            "Gandhi\n",
            "and\n",
            "Priyanka\n",
            "Gandhi\n",
            "Vadra\n",
            ".\n",
            "For\n",
            "much\n",
            "of\n",
            "the\n",
            "1970s\n",
            ",\n",
            "his\n",
            "mother\n",
            "Indira\n",
            "Gandhi\n",
            "was\n",
            "prime\n",
            "minister\n",
            "and\n",
            "his\n",
            "brother\n",
            "Sanjay\n",
            "Gandhi\n",
            "an\n",
            "MP\n",
            ";\n",
            "despite\n",
            "this\n",
            ",\n",
            "Rajiv\n",
            "Gandhi\n",
            "remained\n",
            "apolitical\n",
            ".\n",
            "After\n",
            "Sanjay\n",
            "'s\n",
            "death\n",
            "in\n",
            "a\n",
            "plane\n",
            "crash\n",
            "in\n",
            "1980\n",
            ",\n",
            "Gandhi\n",
            "reluctantly\n",
            "entered\n",
            "politics\n",
            "at\n",
            "the\n",
            "behest\n",
            "of\n",
            "Indira\n",
            ".\n",
            "The\n",
            "following\n",
            "year\n",
            "he\n",
            "won\n",
            "his\n",
            "brother\n",
            "'s\n",
            "Parliamentary\n",
            "seat\n",
            "of\n",
            "Amethi\n",
            "and\n",
            "became\n",
            "a\n",
            "member\n",
            "of\n",
            "the\n",
            "Lok\n",
            "Sabha\n",
            "—\n",
            "the\n",
            "lower\n",
            "house\n",
            "of\n",
            "India\n",
            "'s\n",
            "Parliament\n",
            ".\n",
            "As\n",
            "part\n",
            "of\n",
            "his\n",
            "political\n",
            "grooming\n",
            ",\n",
            "Rajiv\n",
            "was\n",
            "made\n",
            "general\n",
            "secretary\n",
            "of\n",
            "the\n",
            "Congress\n",
            "party\n",
            "and\n",
            "given\n",
            "significant\n",
            "responsibility\n",
            "in\n",
            "organising\n",
            "the\n",
            "1982\n",
            "Asian\n",
            "Games\n"
          ]
        }
      ]
    },
    {
      "cell_type": "code",
      "source": [
        "for token in doc1:\n",
        "  print(token, token.idx, token.is_alpha, token.is_punct, token.is_stop, sep=\"\\t\\t\\t\")"
      ],
      "metadata": {
        "colab": {
          "base_uri": "https://localhost:8080/"
        },
        "id": "a2LprhkR93_q",
        "outputId": "9e300649-9b5b-4749-f4d2-07ad84c3753b"
      },
      "execution_count": null,
      "outputs": [
        {
          "output_type": "stream",
          "name": "stdout",
          "text": [
            "Rajiv\t\t\t0\t\t\tTrue\t\t\tFalse\t\t\tFalse\n",
            "Ratna\t\t\t6\t\t\tTrue\t\t\tFalse\t\t\tFalse\n",
            "Gandhi\t\t\t12\t\t\tTrue\t\t\tFalse\t\t\tFalse\n",
            "was\t\t\t19\t\t\tTrue\t\t\tFalse\t\t\tTrue\n",
            "an\t\t\t23\t\t\tTrue\t\t\tFalse\t\t\tTrue\n",
            "Indian\t\t\t26\t\t\tTrue\t\t\tFalse\t\t\tFalse\n",
            "politician\t\t\t33\t\t\tTrue\t\t\tFalse\t\t\tFalse\n",
            "who\t\t\t44\t\t\tTrue\t\t\tFalse\t\t\tTrue\n",
            "served\t\t\t48\t\t\tTrue\t\t\tFalse\t\t\tFalse\n",
            "as\t\t\t55\t\t\tTrue\t\t\tFalse\t\t\tTrue\n",
            "the\t\t\t58\t\t\tTrue\t\t\tFalse\t\t\tTrue\n",
            "sixth\t\t\t62\t\t\tTrue\t\t\tFalse\t\t\tFalse\n",
            "prime\t\t\t68\t\t\tTrue\t\t\tFalse\t\t\tFalse\n",
            "minister\t\t\t74\t\t\tTrue\t\t\tFalse\t\t\tFalse\n",
            "of\t\t\t83\t\t\tTrue\t\t\tFalse\t\t\tTrue\n",
            "India\t\t\t86\t\t\tTrue\t\t\tFalse\t\t\tFalse\n",
            "from\t\t\t92\t\t\tTrue\t\t\tFalse\t\t\tTrue\n",
            "1984\t\t\t97\t\t\tFalse\t\t\tFalse\t\t\tFalse\n",
            "to\t\t\t102\t\t\tTrue\t\t\tFalse\t\t\tTrue\n",
            "1989\t\t\t105\t\t\tFalse\t\t\tFalse\t\t\tFalse\n",
            ".\t\t\t109\t\t\tFalse\t\t\tTrue\t\t\tFalse\n",
            "He\t\t\t111\t\t\tTrue\t\t\tFalse\t\t\tTrue\n",
            "took\t\t\t114\t\t\tTrue\t\t\tFalse\t\t\tFalse\n",
            "office\t\t\t119\t\t\tTrue\t\t\tFalse\t\t\tFalse\n",
            "after\t\t\t126\t\t\tTrue\t\t\tFalse\t\t\tTrue\n",
            "the\t\t\t132\t\t\tTrue\t\t\tFalse\t\t\tTrue\n",
            "1984\t\t\t136\t\t\tFalse\t\t\tFalse\t\t\tFalse\n",
            "assassination\t\t\t141\t\t\tTrue\t\t\tFalse\t\t\tFalse\n",
            "of\t\t\t155\t\t\tTrue\t\t\tFalse\t\t\tTrue\n",
            "his\t\t\t158\t\t\tTrue\t\t\tFalse\t\t\tTrue\n",
            "mother\t\t\t162\t\t\tTrue\t\t\tFalse\t\t\tFalse\n",
            ",\t\t\t168\t\t\tFalse\t\t\tTrue\t\t\tFalse\n",
            "then\t\t\t170\t\t\tTrue\t\t\tFalse\t\t\tTrue\n",
            "Prime\t\t\t175\t\t\tTrue\t\t\tFalse\t\t\tFalse\n",
            "Minister\t\t\t181\t\t\tTrue\t\t\tFalse\t\t\tFalse\n",
            "Indira\t\t\t190\t\t\tTrue\t\t\tFalse\t\t\tFalse\n",
            "Gandhi\t\t\t197\t\t\tTrue\t\t\tFalse\t\t\tFalse\n",
            ",\t\t\t203\t\t\tFalse\t\t\tTrue\t\t\tFalse\n",
            "to\t\t\t205\t\t\tTrue\t\t\tFalse\t\t\tTrue\n",
            "become\t\t\t208\t\t\tTrue\t\t\tFalse\t\t\tTrue\n",
            "the\t\t\t215\t\t\tTrue\t\t\tFalse\t\t\tTrue\n",
            "youngest\t\t\t219\t\t\tTrue\t\t\tFalse\t\t\tFalse\n",
            "Indian\t\t\t228\t\t\tTrue\t\t\tFalse\t\t\tFalse\n",
            "Prime\t\t\t235\t\t\tTrue\t\t\tFalse\t\t\tFalse\n",
            "minister\t\t\t241\t\t\tTrue\t\t\tFalse\t\t\tFalse\n",
            "at\t\t\t250\t\t\tTrue\t\t\tFalse\t\t\tTrue\n",
            "the\t\t\t253\t\t\tTrue\t\t\tFalse\t\t\tTrue\n",
            "age\t\t\t257\t\t\tTrue\t\t\tFalse\t\t\tFalse\n",
            "of\t\t\t261\t\t\tTrue\t\t\tFalse\t\t\tTrue\n",
            "40\t\t\t264\t\t\tFalse\t\t\tFalse\t\t\tFalse\n",
            ".\t\t\t266\t\t\tFalse\t\t\tTrue\t\t\tFalse\n",
            "Gandhi\t\t\t268\t\t\tTrue\t\t\tFalse\t\t\tFalse\n",
            "was\t\t\t275\t\t\tTrue\t\t\tFalse\t\t\tTrue\n",
            "from\t\t\t279\t\t\tTrue\t\t\tFalse\t\t\tTrue\n",
            "the\t\t\t284\t\t\tTrue\t\t\tFalse\t\t\tTrue\n",
            "politically\t\t\t288\t\t\tTrue\t\t\tFalse\t\t\tFalse\n",
            "powerful\t\t\t300\t\t\tTrue\t\t\tFalse\t\t\tFalse\n",
            "Nehru\t\t\t309\t\t\tTrue\t\t\tFalse\t\t\tFalse\n",
            "–\t\t\t314\t\t\tFalse\t\t\tTrue\t\t\tFalse\n",
            "Gandhi\t\t\t315\t\t\tTrue\t\t\tFalse\t\t\tFalse\n",
            "family\t\t\t322\t\t\tTrue\t\t\tFalse\t\t\tFalse\n",
            ",\t\t\t328\t\t\tFalse\t\t\tTrue\t\t\tFalse\n",
            "which\t\t\t330\t\t\tTrue\t\t\tFalse\t\t\tTrue\n",
            "had\t\t\t336\t\t\tTrue\t\t\tFalse\t\t\tTrue\n",
            "been\t\t\t340\t\t\tTrue\t\t\tFalse\t\t\tTrue\n",
            "associated\t\t\t345\t\t\tTrue\t\t\tFalse\t\t\tFalse\n",
            "with\t\t\t356\t\t\tTrue\t\t\tFalse\t\t\tTrue\n",
            "the\t\t\t361\t\t\tTrue\t\t\tFalse\t\t\tTrue\n",
            "Indian\t\t\t365\t\t\tTrue\t\t\tFalse\t\t\tFalse\n",
            "National\t\t\t372\t\t\tTrue\t\t\tFalse\t\t\tFalse\n",
            "Congress\t\t\t381\t\t\tTrue\t\t\tFalse\t\t\tFalse\n",
            "party\t\t\t390\t\t\tTrue\t\t\tFalse\t\t\tFalse\n",
            ".\t\t\t395\t\t\tFalse\t\t\tTrue\t\t\tFalse\n",
            "For\t\t\t397\t\t\tTrue\t\t\tFalse\t\t\tTrue\n",
            "much\t\t\t401\t\t\tTrue\t\t\tFalse\t\t\tTrue\n",
            "of\t\t\t406\t\t\tTrue\t\t\tFalse\t\t\tTrue\n",
            "his\t\t\t409\t\t\tTrue\t\t\tFalse\t\t\tTrue\n",
            "childhood\t\t\t413\t\t\tTrue\t\t\tFalse\t\t\tFalse\n",
            ",\t\t\t422\t\t\tFalse\t\t\tTrue\t\t\tFalse\n",
            "his\t\t\t424\t\t\tTrue\t\t\tFalse\t\t\tTrue\n",
            "maternal\t\t\t428\t\t\tTrue\t\t\tFalse\t\t\tFalse\n",
            "grandfather\t\t\t437\t\t\tTrue\t\t\tFalse\t\t\tFalse\n",
            "Jawaharlal\t\t\t449\t\t\tTrue\t\t\tFalse\t\t\tFalse\n",
            "Nehru\t\t\t460\t\t\tTrue\t\t\tFalse\t\t\tFalse\n",
            "was\t\t\t466\t\t\tTrue\t\t\tFalse\t\t\tTrue\n",
            "prime\t\t\t470\t\t\tTrue\t\t\tFalse\t\t\tFalse\n",
            "minister\t\t\t476\t\t\tTrue\t\t\tFalse\t\t\tFalse\n",
            ".\t\t\t484\t\t\tFalse\t\t\tTrue\t\t\tFalse\n",
            "Gandhi\t\t\t486\t\t\tTrue\t\t\tFalse\t\t\tFalse\n",
            "attended\t\t\t493\t\t\tTrue\t\t\tFalse\t\t\tFalse\n",
            "college\t\t\t502\t\t\tTrue\t\t\tFalse\t\t\tFalse\n",
            "in\t\t\t510\t\t\tTrue\t\t\tFalse\t\t\tTrue\n",
            "the\t\t\t513\t\t\tTrue\t\t\tFalse\t\t\tTrue\n",
            "United\t\t\t517\t\t\tTrue\t\t\tFalse\t\t\tFalse\n",
            "Kingdom\t\t\t524\t\t\tTrue\t\t\tFalse\t\t\tFalse\n",
            ".\t\t\t531\t\t\tFalse\t\t\tTrue\t\t\tFalse\n",
            "He\t\t\t533\t\t\tTrue\t\t\tFalse\t\t\tTrue\n",
            "returned\t\t\t536\t\t\tTrue\t\t\tFalse\t\t\tFalse\n",
            "to\t\t\t545\t\t\tTrue\t\t\tFalse\t\t\tTrue\n",
            "India\t\t\t548\t\t\tTrue\t\t\tFalse\t\t\tFalse\n",
            "in\t\t\t554\t\t\tTrue\t\t\tFalse\t\t\tTrue\n",
            "1966\t\t\t557\t\t\tFalse\t\t\tFalse\t\t\tFalse\n",
            "and\t\t\t562\t\t\tTrue\t\t\tFalse\t\t\tTrue\n",
            "became\t\t\t566\t\t\tTrue\t\t\tFalse\t\t\tTrue\n",
            "a\t\t\t573\t\t\tTrue\t\t\tFalse\t\t\tTrue\n",
            "professional\t\t\t575\t\t\tTrue\t\t\tFalse\t\t\tFalse\n",
            "pilot\t\t\t588\t\t\tTrue\t\t\tFalse\t\t\tFalse\n",
            "for\t\t\t594\t\t\tTrue\t\t\tFalse\t\t\tTrue\n",
            "the\t\t\t598\t\t\tTrue\t\t\tFalse\t\t\tTrue\n",
            "state\t\t\t602\t\t\tTrue\t\t\tFalse\t\t\tFalse\n",
            "-\t\t\t607\t\t\tFalse\t\t\tTrue\t\t\tFalse\n",
            "owned\t\t\t608\t\t\tTrue\t\t\tFalse\t\t\tFalse\n",
            "Indian\t\t\t614\t\t\tTrue\t\t\tFalse\t\t\tFalse\n",
            "Airlines\t\t\t621\t\t\tTrue\t\t\tFalse\t\t\tFalse\n",
            ".\t\t\t629\t\t\tFalse\t\t\tTrue\t\t\tFalse\n",
            "In\t\t\t631\t\t\tTrue\t\t\tFalse\t\t\tTrue\n",
            "1968\t\t\t634\t\t\tFalse\t\t\tFalse\t\t\tFalse\n",
            ",\t\t\t638\t\t\tFalse\t\t\tTrue\t\t\tFalse\n",
            "he\t\t\t640\t\t\tTrue\t\t\tFalse\t\t\tTrue\n",
            "married\t\t\t643\t\t\tTrue\t\t\tFalse\t\t\tFalse\n",
            "Sonia\t\t\t651\t\t\tTrue\t\t\tFalse\t\t\tFalse\n",
            "Gandhi\t\t\t657\t\t\tTrue\t\t\tFalse\t\t\tFalse\n",
            ";\t\t\t663\t\t\tFalse\t\t\tTrue\t\t\tFalse\n",
            "the\t\t\t665\t\t\tTrue\t\t\tFalse\t\t\tTrue\n",
            "couple\t\t\t669\t\t\tTrue\t\t\tFalse\t\t\tFalse\n",
            "settled\t\t\t676\t\t\tTrue\t\t\tFalse\t\t\tFalse\n",
            "in\t\t\t684\t\t\tTrue\t\t\tFalse\t\t\tTrue\n",
            "Delhi\t\t\t687\t\t\tTrue\t\t\tFalse\t\t\tFalse\n",
            "to\t\t\t693\t\t\tTrue\t\t\tFalse\t\t\tTrue\n",
            "a\t\t\t696\t\t\tTrue\t\t\tFalse\t\t\tTrue\n",
            "domestic\t\t\t698\t\t\tTrue\t\t\tFalse\t\t\tFalse\n",
            "life\t\t\t707\t\t\tTrue\t\t\tFalse\t\t\tFalse\n",
            "with\t\t\t712\t\t\tTrue\t\t\tFalse\t\t\tTrue\n",
            "their\t\t\t717\t\t\tTrue\t\t\tFalse\t\t\tTrue\n",
            "children\t\t\t723\t\t\tTrue\t\t\tFalse\t\t\tFalse\n",
            "Rahul\t\t\t732\t\t\tTrue\t\t\tFalse\t\t\tFalse\n",
            "Gandhi\t\t\t738\t\t\tTrue\t\t\tFalse\t\t\tFalse\n",
            "and\t\t\t745\t\t\tTrue\t\t\tFalse\t\t\tTrue\n",
            "Priyanka\t\t\t749\t\t\tTrue\t\t\tFalse\t\t\tFalse\n",
            "Gandhi\t\t\t758\t\t\tTrue\t\t\tFalse\t\t\tFalse\n",
            "Vadra\t\t\t765\t\t\tTrue\t\t\tFalse\t\t\tFalse\n",
            ".\t\t\t770\t\t\tFalse\t\t\tTrue\t\t\tFalse\n",
            "For\t\t\t772\t\t\tTrue\t\t\tFalse\t\t\tTrue\n",
            "much\t\t\t776\t\t\tTrue\t\t\tFalse\t\t\tTrue\n",
            "of\t\t\t781\t\t\tTrue\t\t\tFalse\t\t\tTrue\n",
            "the\t\t\t784\t\t\tTrue\t\t\tFalse\t\t\tTrue\n",
            "1970s\t\t\t788\t\t\tFalse\t\t\tFalse\t\t\tFalse\n",
            ",\t\t\t793\t\t\tFalse\t\t\tTrue\t\t\tFalse\n",
            "his\t\t\t795\t\t\tTrue\t\t\tFalse\t\t\tTrue\n",
            "mother\t\t\t799\t\t\tTrue\t\t\tFalse\t\t\tFalse\n",
            "Indira\t\t\t806\t\t\tTrue\t\t\tFalse\t\t\tFalse\n",
            "Gandhi\t\t\t813\t\t\tTrue\t\t\tFalse\t\t\tFalse\n",
            "was\t\t\t820\t\t\tTrue\t\t\tFalse\t\t\tTrue\n",
            "prime\t\t\t824\t\t\tTrue\t\t\tFalse\t\t\tFalse\n",
            "minister\t\t\t830\t\t\tTrue\t\t\tFalse\t\t\tFalse\n",
            "and\t\t\t839\t\t\tTrue\t\t\tFalse\t\t\tTrue\n",
            "his\t\t\t843\t\t\tTrue\t\t\tFalse\t\t\tTrue\n",
            "brother\t\t\t847\t\t\tTrue\t\t\tFalse\t\t\tFalse\n",
            "Sanjay\t\t\t855\t\t\tTrue\t\t\tFalse\t\t\tFalse\n",
            "Gandhi\t\t\t862\t\t\tTrue\t\t\tFalse\t\t\tFalse\n",
            "an\t\t\t869\t\t\tTrue\t\t\tFalse\t\t\tTrue\n",
            "MP\t\t\t872\t\t\tTrue\t\t\tFalse\t\t\tFalse\n",
            ";\t\t\t874\t\t\tFalse\t\t\tTrue\t\t\tFalse\n",
            "despite\t\t\t876\t\t\tTrue\t\t\tFalse\t\t\tFalse\n",
            "this\t\t\t884\t\t\tTrue\t\t\tFalse\t\t\tTrue\n",
            ",\t\t\t888\t\t\tFalse\t\t\tTrue\t\t\tFalse\n",
            "Rajiv\t\t\t890\t\t\tTrue\t\t\tFalse\t\t\tFalse\n",
            "Gandhi\t\t\t896\t\t\tTrue\t\t\tFalse\t\t\tFalse\n",
            "remained\t\t\t903\t\t\tTrue\t\t\tFalse\t\t\tFalse\n",
            "apolitical\t\t\t912\t\t\tTrue\t\t\tFalse\t\t\tFalse\n",
            ".\t\t\t922\t\t\tFalse\t\t\tTrue\t\t\tFalse\n",
            "After\t\t\t924\t\t\tTrue\t\t\tFalse\t\t\tTrue\n",
            "Sanjay\t\t\t930\t\t\tTrue\t\t\tFalse\t\t\tFalse\n",
            "'s\t\t\t936\t\t\tFalse\t\t\tFalse\t\t\tTrue\n",
            "death\t\t\t939\t\t\tTrue\t\t\tFalse\t\t\tFalse\n",
            "in\t\t\t945\t\t\tTrue\t\t\tFalse\t\t\tTrue\n",
            "a\t\t\t948\t\t\tTrue\t\t\tFalse\t\t\tTrue\n",
            "plane\t\t\t950\t\t\tTrue\t\t\tFalse\t\t\tFalse\n",
            "crash\t\t\t956\t\t\tTrue\t\t\tFalse\t\t\tFalse\n",
            "in\t\t\t962\t\t\tTrue\t\t\tFalse\t\t\tTrue\n",
            "1980\t\t\t965\t\t\tFalse\t\t\tFalse\t\t\tFalse\n",
            ",\t\t\t969\t\t\tFalse\t\t\tTrue\t\t\tFalse\n",
            "Gandhi\t\t\t971\t\t\tTrue\t\t\tFalse\t\t\tFalse\n",
            "reluctantly\t\t\t978\t\t\tTrue\t\t\tFalse\t\t\tFalse\n",
            "entered\t\t\t990\t\t\tTrue\t\t\tFalse\t\t\tFalse\n",
            "politics\t\t\t998\t\t\tTrue\t\t\tFalse\t\t\tFalse\n",
            "at\t\t\t1007\t\t\tTrue\t\t\tFalse\t\t\tTrue\n",
            "the\t\t\t1010\t\t\tTrue\t\t\tFalse\t\t\tTrue\n",
            "behest\t\t\t1014\t\t\tTrue\t\t\tFalse\t\t\tFalse\n",
            "of\t\t\t1021\t\t\tTrue\t\t\tFalse\t\t\tTrue\n",
            "Indira\t\t\t1024\t\t\tTrue\t\t\tFalse\t\t\tFalse\n",
            ".\t\t\t1030\t\t\tFalse\t\t\tTrue\t\t\tFalse\n",
            "The\t\t\t1032\t\t\tTrue\t\t\tFalse\t\t\tTrue\n",
            "following\t\t\t1036\t\t\tTrue\t\t\tFalse\t\t\tFalse\n",
            "year\t\t\t1046\t\t\tTrue\t\t\tFalse\t\t\tFalse\n",
            "he\t\t\t1051\t\t\tTrue\t\t\tFalse\t\t\tTrue\n",
            "won\t\t\t1054\t\t\tTrue\t\t\tFalse\t\t\tFalse\n",
            "his\t\t\t1058\t\t\tTrue\t\t\tFalse\t\t\tTrue\n",
            "brother\t\t\t1062\t\t\tTrue\t\t\tFalse\t\t\tFalse\n",
            "'s\t\t\t1069\t\t\tFalse\t\t\tFalse\t\t\tTrue\n",
            "Parliamentary\t\t\t1072\t\t\tTrue\t\t\tFalse\t\t\tFalse\n",
            "seat\t\t\t1086\t\t\tTrue\t\t\tFalse\t\t\tFalse\n",
            "of\t\t\t1091\t\t\tTrue\t\t\tFalse\t\t\tTrue\n",
            "Amethi\t\t\t1094\t\t\tTrue\t\t\tFalse\t\t\tFalse\n",
            "and\t\t\t1101\t\t\tTrue\t\t\tFalse\t\t\tTrue\n",
            "became\t\t\t1105\t\t\tTrue\t\t\tFalse\t\t\tTrue\n",
            "a\t\t\t1112\t\t\tTrue\t\t\tFalse\t\t\tTrue\n",
            "member\t\t\t1114\t\t\tTrue\t\t\tFalse\t\t\tFalse\n",
            "of\t\t\t1121\t\t\tTrue\t\t\tFalse\t\t\tTrue\n",
            "the\t\t\t1124\t\t\tTrue\t\t\tFalse\t\t\tTrue\n",
            "Lok\t\t\t1128\t\t\tTrue\t\t\tFalse\t\t\tFalse\n",
            "Sabha\t\t\t1132\t\t\tTrue\t\t\tFalse\t\t\tFalse\n",
            "—\t\t\t1137\t\t\tFalse\t\t\tTrue\t\t\tFalse\n",
            "the\t\t\t1138\t\t\tTrue\t\t\tFalse\t\t\tTrue\n",
            "lower\t\t\t1142\t\t\tTrue\t\t\tFalse\t\t\tFalse\n",
            "house\t\t\t1148\t\t\tTrue\t\t\tFalse\t\t\tFalse\n",
            "of\t\t\t1154\t\t\tTrue\t\t\tFalse\t\t\tTrue\n",
            "India\t\t\t1157\t\t\tTrue\t\t\tFalse\t\t\tFalse\n",
            "'s\t\t\t1162\t\t\tFalse\t\t\tFalse\t\t\tTrue\n",
            "Parliament\t\t\t1165\t\t\tTrue\t\t\tFalse\t\t\tFalse\n",
            ".\t\t\t1175\t\t\tFalse\t\t\tTrue\t\t\tFalse\n",
            "As\t\t\t1177\t\t\tTrue\t\t\tFalse\t\t\tTrue\n",
            "part\t\t\t1180\t\t\tTrue\t\t\tFalse\t\t\tTrue\n",
            "of\t\t\t1185\t\t\tTrue\t\t\tFalse\t\t\tTrue\n",
            "his\t\t\t1188\t\t\tTrue\t\t\tFalse\t\t\tTrue\n",
            "political\t\t\t1192\t\t\tTrue\t\t\tFalse\t\t\tFalse\n",
            "grooming\t\t\t1202\t\t\tTrue\t\t\tFalse\t\t\tFalse\n",
            ",\t\t\t1210\t\t\tFalse\t\t\tTrue\t\t\tFalse\n",
            "Rajiv\t\t\t1212\t\t\tTrue\t\t\tFalse\t\t\tFalse\n",
            "was\t\t\t1218\t\t\tTrue\t\t\tFalse\t\t\tTrue\n",
            "made\t\t\t1222\t\t\tTrue\t\t\tFalse\t\t\tTrue\n",
            "general\t\t\t1227\t\t\tTrue\t\t\tFalse\t\t\tFalse\n",
            "secretary\t\t\t1235\t\t\tTrue\t\t\tFalse\t\t\tFalse\n",
            "of\t\t\t1245\t\t\tTrue\t\t\tFalse\t\t\tTrue\n",
            "the\t\t\t1248\t\t\tTrue\t\t\tFalse\t\t\tTrue\n",
            "Congress\t\t\t1252\t\t\tTrue\t\t\tFalse\t\t\tFalse\n",
            "party\t\t\t1261\t\t\tTrue\t\t\tFalse\t\t\tFalse\n",
            "and\t\t\t1267\t\t\tTrue\t\t\tFalse\t\t\tTrue\n",
            "given\t\t\t1271\t\t\tTrue\t\t\tFalse\t\t\tFalse\n",
            "significant\t\t\t1277\t\t\tTrue\t\t\tFalse\t\t\tFalse\n",
            "responsibility\t\t\t1289\t\t\tTrue\t\t\tFalse\t\t\tFalse\n",
            "in\t\t\t1304\t\t\tTrue\t\t\tFalse\t\t\tTrue\n",
            "organising\t\t\t1307\t\t\tTrue\t\t\tFalse\t\t\tFalse\n",
            "the\t\t\t1318\t\t\tTrue\t\t\tFalse\t\t\tTrue\n",
            "1982\t\t\t1322\t\t\tFalse\t\t\tFalse\t\t\tFalse\n",
            "Asian\t\t\t1327\t\t\tTrue\t\t\tFalse\t\t\tFalse\n",
            "Games\t\t\t1333\t\t\tTrue\t\t\tFalse\t\t\tFalse\n"
          ]
        }
      ]
    },
    {
      "cell_type": "code",
      "source": [
        "doc2 = nlp(u\"Apple to bulid a Hong Kong factory for $6 million.\")\n",
        "for entity in doc2.ents:\n",
        "  print(entity)\n",
        "  print(entity.label_)\n",
        "  print(str(spacy.explain(entity.label_)))\n",
        "  print('\\n')"
      ],
      "metadata": {
        "colab": {
          "base_uri": "https://localhost:8080/"
        },
        "id": "rS65jNGR-KZJ",
        "outputId": "cd531882-b14d-4a08-ab5f-e70633aa9e64"
      },
      "execution_count": null,
      "outputs": [
        {
          "output_type": "stream",
          "name": "stdout",
          "text": [
            "Apple\n",
            "ORG\n",
            "Companies, agencies, institutions, etc.\n",
            "\n",
            "\n",
            "Hong Kong\n",
            "GPE\n",
            "Countries, cities, states\n",
            "\n",
            "\n",
            "$6 million\n",
            "MONEY\n",
            "Monetary values, including unit\n",
            "\n",
            "\n"
          ]
        }
      ]
    },
    {
      "cell_type": "code",
      "source": [
        "doc3 = nlp(u\"Autonomous cars shift insurance liability toward manufacturers. The world's largest tower\")\n",
        "for chunk in doc3.noun_chunks:\n",
        "  print(chunk)"
      ],
      "metadata": {
        "colab": {
          "base_uri": "https://localhost:8080/"
        },
        "id": "kwhtn47b-pbP",
        "outputId": "a6f00958-1db6-4eed-8594-756726931f10"
      },
      "execution_count": null,
      "outputs": [
        {
          "output_type": "stream",
          "name": "stdout",
          "text": [
            "Autonomous cars\n",
            "insurance liability\n",
            "manufacturers\n",
            "The world's largest tower\n"
          ]
        }
      ]
    },
    {
      "cell_type": "markdown",
      "source": [
        "**Stopwords in English**"
      ],
      "metadata": {
        "id": "MRW9b_pg_D9G"
      }
    },
    {
      "cell_type": "code",
      "source": [
        "stp = spacy.lang.en.stop_words.STOP_WORDS\n",
        "print(list(stp))"
      ],
      "metadata": {
        "colab": {
          "base_uri": "https://localhost:8080/"
        },
        "id": "vlhczQ7l_HQo",
        "outputId": "08c270f1-0159-4f45-d3e8-071eeb728981"
      },
      "execution_count": null,
      "outputs": [
        {
          "output_type": "stream",
          "name": "stdout",
          "text": [
            "['say', 'within', 'again', 'nine', 'four', 'also', 'through', 'nevertheless', 'seeming', 'towards', 'which', 'any', 'forty', 'none', 'someone', 'becomes', 'get', 'back', 'beforehand', 'whom', 'since', 'cannot', 'own', 'keep', 'where', 'she', 'formerly', 'me', 'due', 'made', 'such', 'however', 'really', 'who', 'him', 'mostly', 'go', 'mine', 'herself', 'everything', 'around', 'together', 'whereby', 'their', 'n’t', '’re', \"'re\", 'i', 'whereas', 'somewhere', 'anyone', 'onto', 'ten', 'our', 'many', 'eight', 'along', 'why', 'being', 'thus', 'does', 'over', 'for', 'just', 'few', 'no', 'about', 'call', 'them', 'therefore', '’d', 'nothing', 'most', 'whenever', 'then', 'thence', \"'d\", 'never', 'whose', 'and', 'we', 'make', 'six', 'twenty', 'yet', 'are', 'has', 'whereupon', 'alone', 'from', 'what', 'have', 'seem', 'becoming', 'was', 'whole', 'quite', 'wherever', 'it', 'three', 'themselves', 'else', '’ll', 'anything', 'seems', 'enough', 'himself', 'the', 'part', 'how', 'toward', '‘ll', 'latterly', 'throughout', 'nobody', 'anyhow', \"'m\", 'namely', 'n‘t', 'did', 'yourself', 'up', 'after', 'rather', 'unless', 'yours', 'put', 'bottom', 'so', '‘m', 'than', 'there', 'with', 'five', 'perhaps', '‘d', 'eleven', 'became', 'above', 'often', 'could', 'last', 'between', 'yourselves', 'whence', \"n't\", 'its', 'across', 'whoever', 'moreover', 'without', 'one', 're', 'herein', 'side', 'thereafter', 'ca', 'thereby', '’s', 'can', 'every', '‘ve', 'am', 'anywhere', 'already', 'behind', 'empty', 'until', 'others', 'myself', 'though', 'first', 'whither', 'less', 'been', 'only', 'be', 'using', 'same', 'indeed', 'an', 'us', 'even', 'very', 'her', 'whatever', 'both', 'more', 'beside', 'ever', 'down', 'these', 'doing', 'here', '’m', \"'s\", 'some', 'your', 'therein', 'nowhere', 'noone', 'his', 'much', 'into', 'to', 'per', 'name', 'afterwards', 'but', 'former', 'take', 'nor', 'latter', 'sometime', 'this', 'by', 'against', 'among', 'you', 'would', 'once', 'another', 'whether', 'give', 'upon', 'hereby', 'at', 'beyond', 'as', 'please', 'not', 'fifty', 'besides', 'must', 'or', 'move', 'those', 'further', 'amongst', 'out', 'may', 'twelve', 'do', 'they', 'when', 'if', 'various', 'off', 'hence', '’ve', 'might', 'either', 'except', 'still', 'other', 'always', 'via', 'under', 'wherein', 'meanwhile', 'used', 'done', 'each', 'two', 'my', 'ourselves', 'sometimes', 'although', 'see', \"'ve\", 'everywhere', 'whereafter', 'ours', 'hers', 'least', 'thru', '‘re', 'something', 'almost', 'itself', 'all', 'because', 'during', 'otherwise', 'should', 'become', 'had', 'third', 'anyway', 'somehow', 'front', 'hundred', 'neither', 'in', 'elsewhere', 'show', 'hereupon', 'he', 'well', 'a', 'top', 'thereupon', 'on', 'seemed', 'fifteen', 'amount', 'regarding', \"'ll\", 'hereafter', 'that', 'below', 'everyone', 'full', 'now', 'before', 'next', 'several', 'is', '‘s', 'of', 'will', 'serious', 'sixty', 'too', 'while', 'were']\n"
          ]
        }
      ]
    },
    {
      "cell_type": "markdown",
      "source": [
        "**Remove stopwords from token**"
      ],
      "metadata": {
        "id": "B--T7f0F_UlK"
      }
    },
    {
      "cell_type": "code",
      "source": [
        "for token in doc1:\n",
        "  if token not in stp:\n",
        "    print(token)"
      ],
      "metadata": {
        "colab": {
          "base_uri": "https://localhost:8080/"
        },
        "id": "4-6o6a9p_THE",
        "outputId": "0c93541e-b45b-424a-f197-65486101dc71"
      },
      "execution_count": null,
      "outputs": [
        {
          "output_type": "stream",
          "name": "stdout",
          "text": [
            "Rajiv\n",
            "Ratna\n",
            "Gandhi\n",
            "was\n",
            "an\n",
            "Indian\n",
            "politician\n",
            "who\n",
            "served\n",
            "as\n",
            "the\n",
            "sixth\n",
            "prime\n",
            "minister\n",
            "of\n",
            "India\n",
            "from\n",
            "1984\n",
            "to\n",
            "1989\n",
            ".\n",
            "He\n",
            "took\n",
            "office\n",
            "after\n",
            "the\n",
            "1984\n",
            "assassination\n",
            "of\n",
            "his\n",
            "mother\n",
            ",\n",
            "then\n",
            "Prime\n",
            "Minister\n",
            "Indira\n",
            "Gandhi\n",
            ",\n",
            "to\n",
            "become\n",
            "the\n",
            "youngest\n",
            "Indian\n",
            "Prime\n",
            "minister\n",
            "at\n",
            "the\n",
            "age\n",
            "of\n",
            "40\n",
            ".\n",
            "Gandhi\n",
            "was\n",
            "from\n",
            "the\n",
            "politically\n",
            "powerful\n",
            "Nehru\n",
            "–\n",
            "Gandhi\n",
            "family\n",
            ",\n",
            "which\n",
            "had\n",
            "been\n",
            "associated\n",
            "with\n",
            "the\n",
            "Indian\n",
            "National\n",
            "Congress\n",
            "party\n",
            ".\n",
            "For\n",
            "much\n",
            "of\n",
            "his\n",
            "childhood\n",
            ",\n",
            "his\n",
            "maternal\n",
            "grandfather\n",
            "Jawaharlal\n",
            "Nehru\n",
            "was\n",
            "prime\n",
            "minister\n",
            ".\n",
            "Gandhi\n",
            "attended\n",
            "college\n",
            "in\n",
            "the\n",
            "United\n",
            "Kingdom\n",
            ".\n",
            "He\n",
            "returned\n",
            "to\n",
            "India\n",
            "in\n",
            "1966\n",
            "and\n",
            "became\n",
            "a\n",
            "professional\n",
            "pilot\n",
            "for\n",
            "the\n",
            "state\n",
            "-\n",
            "owned\n",
            "Indian\n",
            "Airlines\n",
            ".\n",
            "In\n",
            "1968\n",
            ",\n",
            "he\n",
            "married\n",
            "Sonia\n",
            "Gandhi\n",
            ";\n",
            "the\n",
            "couple\n",
            "settled\n",
            "in\n",
            "Delhi\n",
            "to\n",
            "a\n",
            "domestic\n",
            "life\n",
            "with\n",
            "their\n",
            "children\n",
            "Rahul\n",
            "Gandhi\n",
            "and\n",
            "Priyanka\n",
            "Gandhi\n",
            "Vadra\n",
            ".\n",
            "For\n",
            "much\n",
            "of\n",
            "the\n",
            "1970s\n",
            ",\n",
            "his\n",
            "mother\n",
            "Indira\n",
            "Gandhi\n",
            "was\n",
            "prime\n",
            "minister\n",
            "and\n",
            "his\n",
            "brother\n",
            "Sanjay\n",
            "Gandhi\n",
            "an\n",
            "MP\n",
            ";\n",
            "despite\n",
            "this\n",
            ",\n",
            "Rajiv\n",
            "Gandhi\n",
            "remained\n",
            "apolitical\n",
            ".\n",
            "After\n",
            "Sanjay\n",
            "'s\n",
            "death\n",
            "in\n",
            "a\n",
            "plane\n",
            "crash\n",
            "in\n",
            "1980\n",
            ",\n",
            "Gandhi\n",
            "reluctantly\n",
            "entered\n",
            "politics\n",
            "at\n",
            "the\n",
            "behest\n",
            "of\n",
            "Indira\n",
            ".\n",
            "The\n",
            "following\n",
            "year\n",
            "he\n",
            "won\n",
            "his\n",
            "brother\n",
            "'s\n",
            "Parliamentary\n",
            "seat\n",
            "of\n",
            "Amethi\n",
            "and\n",
            "became\n",
            "a\n",
            "member\n",
            "of\n",
            "the\n",
            "Lok\n",
            "Sabha\n",
            "—\n",
            "the\n",
            "lower\n",
            "house\n",
            "of\n",
            "India\n",
            "'s\n",
            "Parliament\n",
            ".\n",
            "As\n",
            "part\n",
            "of\n",
            "his\n",
            "political\n",
            "grooming\n",
            ",\n",
            "Rajiv\n",
            "was\n",
            "made\n",
            "general\n",
            "secretary\n",
            "of\n",
            "the\n",
            "Congress\n",
            "party\n",
            "and\n",
            "given\n",
            "significant\n",
            "responsibility\n",
            "in\n",
            "organising\n",
            "the\n",
            "1982\n",
            "Asian\n",
            "Games\n"
          ]
        }
      ]
    },
    {
      "cell_type": "markdown",
      "source": [
        "**Display the lemmatized form of tokens**"
      ],
      "metadata": {
        "id": "X1-nsgKEAUzr"
      }
    },
    {
      "cell_type": "code",
      "source": [
        "for token in doc1:\n",
        "  print(token, '-->', token.lemma_)"
      ],
      "metadata": {
        "colab": {
          "base_uri": "https://localhost:8080/"
        },
        "id": "UVk0cLCh_f9g",
        "outputId": "cc602bc0-d5da-4cef-c9d6-5132da61f97c"
      },
      "execution_count": null,
      "outputs": [
        {
          "output_type": "stream",
          "name": "stdout",
          "text": [
            "Rajiv --> Rajiv\n",
            "Ratna --> Ratna\n",
            "Gandhi --> Gandhi\n",
            "was --> be\n",
            "an --> an\n",
            "Indian --> indian\n",
            "politician --> politician\n",
            "who --> who\n",
            "served --> serve\n",
            "as --> as\n",
            "the --> the\n",
            "sixth --> sixth\n",
            "prime --> prime\n",
            "minister --> minister\n",
            "of --> of\n",
            "India --> India\n",
            "from --> from\n",
            "1984 --> 1984\n",
            "to --> to\n",
            "1989 --> 1989\n",
            ". --> .\n",
            "He --> -PRON-\n",
            "took --> take\n",
            "office --> office\n",
            "after --> after\n",
            "the --> the\n",
            "1984 --> 1984\n",
            "assassination --> assassination\n",
            "of --> of\n",
            "his --> -PRON-\n",
            "mother --> mother\n",
            ", --> ,\n",
            "then --> then\n",
            "Prime --> Prime\n",
            "Minister --> Minister\n",
            "Indira --> Indira\n",
            "Gandhi --> Gandhi\n",
            ", --> ,\n",
            "to --> to\n",
            "become --> become\n",
            "the --> the\n",
            "youngest --> young\n",
            "Indian --> indian\n",
            "Prime --> Prime\n",
            "minister --> minister\n",
            "at --> at\n",
            "the --> the\n",
            "age --> age\n",
            "of --> of\n",
            "40 --> 40\n",
            ". --> .\n",
            "Gandhi --> Gandhi\n",
            "was --> be\n",
            "from --> from\n",
            "the --> the\n",
            "politically --> politically\n",
            "powerful --> powerful\n",
            "Nehru --> Nehru\n",
            "– --> –\n",
            "Gandhi --> Gandhi\n",
            "family --> family\n",
            ", --> ,\n",
            "which --> which\n",
            "had --> have\n",
            "been --> be\n",
            "associated --> associate\n",
            "with --> with\n",
            "the --> the\n",
            "Indian --> Indian\n",
            "National --> National\n",
            "Congress --> Congress\n",
            "party --> party\n",
            ". --> .\n",
            "For --> for\n",
            "much --> much\n",
            "of --> of\n",
            "his --> -PRON-\n",
            "childhood --> childhood\n",
            ", --> ,\n",
            "his --> -PRON-\n",
            "maternal --> maternal\n",
            "grandfather --> grandfather\n",
            "Jawaharlal --> Jawaharlal\n",
            "Nehru --> Nehru\n",
            "was --> be\n",
            "prime --> prime\n",
            "minister --> minister\n",
            ". --> .\n",
            "Gandhi --> Gandhi\n",
            "attended --> attend\n",
            "college --> college\n",
            "in --> in\n",
            "the --> the\n",
            "United --> United\n",
            "Kingdom --> Kingdom\n",
            ". --> .\n",
            "He --> -PRON-\n",
            "returned --> return\n",
            "to --> to\n",
            "India --> India\n",
            "in --> in\n",
            "1966 --> 1966\n",
            "and --> and\n",
            "became --> become\n",
            "a --> a\n",
            "professional --> professional\n",
            "pilot --> pilot\n",
            "for --> for\n",
            "the --> the\n",
            "state --> state\n",
            "- --> -\n",
            "owned --> own\n",
            "Indian --> Indian\n",
            "Airlines --> Airlines\n",
            ". --> .\n",
            "In --> in\n",
            "1968 --> 1968\n",
            ", --> ,\n",
            "he --> -PRON-\n",
            "married --> marry\n",
            "Sonia --> Sonia\n",
            "Gandhi --> Gandhi\n",
            "; --> ;\n",
            "the --> the\n",
            "couple --> couple\n",
            "settled --> settle\n",
            "in --> in\n",
            "Delhi --> Delhi\n",
            "to --> to\n",
            "a --> a\n",
            "domestic --> domestic\n",
            "life --> life\n",
            "with --> with\n",
            "their --> -PRON-\n",
            "children --> child\n",
            "Rahul --> Rahul\n",
            "Gandhi --> Gandhi\n",
            "and --> and\n",
            "Priyanka --> Priyanka\n",
            "Gandhi --> Gandhi\n",
            "Vadra --> Vadra\n",
            ". --> .\n",
            "For --> for\n",
            "much --> much\n",
            "of --> of\n",
            "the --> the\n",
            "1970s --> 1970\n",
            ", --> ,\n",
            "his --> -PRON-\n",
            "mother --> mother\n",
            "Indira --> Indira\n",
            "Gandhi --> Gandhi\n",
            "was --> be\n",
            "prime --> prime\n",
            "minister --> minister\n",
            "and --> and\n",
            "his --> -PRON-\n",
            "brother --> brother\n",
            "Sanjay --> Sanjay\n",
            "Gandhi --> Gandhi\n",
            "an --> an\n",
            "MP --> MP\n",
            "; --> ;\n",
            "despite --> despite\n",
            "this --> this\n",
            ", --> ,\n",
            "Rajiv --> Rajiv\n",
            "Gandhi --> Gandhi\n",
            "remained --> remain\n",
            "apolitical --> apolitical\n",
            ". --> .\n",
            "After --> after\n",
            "Sanjay --> Sanjay\n",
            "'s --> 's\n",
            "death --> death\n",
            "in --> in\n",
            "a --> a\n",
            "plane --> plane\n",
            "crash --> crash\n",
            "in --> in\n",
            "1980 --> 1980\n",
            ", --> ,\n",
            "Gandhi --> Gandhi\n",
            "reluctantly --> reluctantly\n",
            "entered --> enter\n",
            "politics --> politic\n",
            "at --> at\n",
            "the --> the\n",
            "behest --> behest\n",
            "of --> of\n",
            "Indira --> Indira\n",
            ". --> .\n",
            "The --> the\n",
            "following --> following\n",
            "year --> year\n",
            "he --> -PRON-\n",
            "won --> win\n",
            "his --> -PRON-\n",
            "brother --> brother\n",
            "'s --> 's\n",
            "Parliamentary --> Parliamentary\n",
            "seat --> seat\n",
            "of --> of\n",
            "Amethi --> Amethi\n",
            "and --> and\n",
            "became --> become\n",
            "a --> a\n",
            "member --> member\n",
            "of --> of\n",
            "the --> the\n",
            "Lok --> Lok\n",
            "Sabha --> Sabha\n",
            "— --> —\n",
            "the --> the\n",
            "lower --> low\n",
            "house --> house\n",
            "of --> of\n",
            "India --> India\n",
            "'s --> 's\n",
            "Parliament --> Parliament\n",
            ". --> .\n",
            "As --> as\n",
            "part --> part\n",
            "of --> of\n",
            "his --> -PRON-\n",
            "political --> political\n",
            "grooming --> grooming\n",
            ", --> ,\n",
            "Rajiv --> Rajiv\n",
            "was --> be\n",
            "made --> make\n",
            "general --> general\n",
            "secretary --> secretary\n",
            "of --> of\n",
            "the --> the\n",
            "Congress --> Congress\n",
            "party --> party\n",
            "and --> and\n",
            "given --> give\n",
            "significant --> significant\n",
            "responsibility --> responsibility\n",
            "in --> in\n",
            "organising --> organise\n",
            "the --> the\n",
            "1982 --> 1982\n",
            "Asian --> Asian\n",
            "Games --> Games\n"
          ]
        }
      ]
    },
    {
      "cell_type": "markdown",
      "source": [
        "**Display pos tagging for the tokens**"
      ],
      "metadata": {
        "id": "dozXHnNBAqOW"
      }
    },
    {
      "cell_type": "code",
      "source": [
        "for token in doc1:\n",
        "  print(\"Token: \", token, \"Token Tag: \", token.tag_, \"Token POS: \", token.pos_,\n",
        "        \"Token Explanation: \", spacy.explain(token.tag_))"
      ],
      "metadata": {
        "colab": {
          "base_uri": "https://localhost:8080/"
        },
        "id": "35iw6m-YAegD",
        "outputId": "4c2d715a-1cc4-44f7-f246-e7a8f0343647"
      },
      "execution_count": null,
      "outputs": [
        {
          "output_type": "stream",
          "name": "stdout",
          "text": [
            "Token:  Rajiv Token Tag:  NNP Token POS:  PROPN Token Explanation:  noun, proper singular\n",
            "Token:  Ratna Token Tag:  NNP Token POS:  PROPN Token Explanation:  noun, proper singular\n",
            "Token:  Gandhi Token Tag:  NNP Token POS:  PROPN Token Explanation:  noun, proper singular\n",
            "Token:  was Token Tag:  VBD Token POS:  AUX Token Explanation:  verb, past tense\n",
            "Token:  an Token Tag:  DT Token POS:  DET Token Explanation:  determiner\n",
            "Token:  Indian Token Tag:  JJ Token POS:  ADJ Token Explanation:  adjective\n",
            "Token:  politician Token Tag:  NN Token POS:  NOUN Token Explanation:  noun, singular or mass\n",
            "Token:  who Token Tag:  WP Token POS:  PRON Token Explanation:  wh-pronoun, personal\n",
            "Token:  served Token Tag:  VBD Token POS:  VERB Token Explanation:  verb, past tense\n",
            "Token:  as Token Tag:  IN Token POS:  SCONJ Token Explanation:  conjunction, subordinating or preposition\n",
            "Token:  the Token Tag:  DT Token POS:  DET Token Explanation:  determiner\n",
            "Token:  sixth Token Tag:  JJ Token POS:  ADJ Token Explanation:  adjective\n",
            "Token:  prime Token Tag:  JJ Token POS:  ADJ Token Explanation:  adjective\n",
            "Token:  minister Token Tag:  NN Token POS:  NOUN Token Explanation:  noun, singular or mass\n",
            "Token:  of Token Tag:  IN Token POS:  ADP Token Explanation:  conjunction, subordinating or preposition\n",
            "Token:  India Token Tag:  NNP Token POS:  PROPN Token Explanation:  noun, proper singular\n",
            "Token:  from Token Tag:  IN Token POS:  ADP Token Explanation:  conjunction, subordinating or preposition\n",
            "Token:  1984 Token Tag:  CD Token POS:  NUM Token Explanation:  cardinal number\n",
            "Token:  to Token Tag:  IN Token POS:  ADP Token Explanation:  conjunction, subordinating or preposition\n",
            "Token:  1989 Token Tag:  CD Token POS:  NUM Token Explanation:  cardinal number\n",
            "Token:  . Token Tag:  . Token POS:  PUNCT Token Explanation:  punctuation mark, sentence closer\n",
            "Token:  He Token Tag:  PRP Token POS:  PRON Token Explanation:  pronoun, personal\n",
            "Token:  took Token Tag:  VBD Token POS:  VERB Token Explanation:  verb, past tense\n",
            "Token:  office Token Tag:  NN Token POS:  NOUN Token Explanation:  noun, singular or mass\n",
            "Token:  after Token Tag:  IN Token POS:  ADP Token Explanation:  conjunction, subordinating or preposition\n",
            "Token:  the Token Tag:  DT Token POS:  DET Token Explanation:  determiner\n",
            "Token:  1984 Token Tag:  CD Token POS:  NUM Token Explanation:  cardinal number\n",
            "Token:  assassination Token Tag:  NN Token POS:  NOUN Token Explanation:  noun, singular or mass\n",
            "Token:  of Token Tag:  IN Token POS:  ADP Token Explanation:  conjunction, subordinating or preposition\n",
            "Token:  his Token Tag:  PRP$ Token POS:  DET Token Explanation:  pronoun, possessive\n",
            "Token:  mother Token Tag:  NN Token POS:  NOUN Token Explanation:  noun, singular or mass\n",
            "Token:  , Token Tag:  , Token POS:  PUNCT Token Explanation:  punctuation mark, comma\n",
            "Token:  then Token Tag:  RB Token POS:  ADV Token Explanation:  adverb\n",
            "Token:  Prime Token Tag:  NNP Token POS:  PROPN Token Explanation:  noun, proper singular\n",
            "Token:  Minister Token Tag:  NNP Token POS:  PROPN Token Explanation:  noun, proper singular\n",
            "Token:  Indira Token Tag:  NNP Token POS:  PROPN Token Explanation:  noun, proper singular\n",
            "Token:  Gandhi Token Tag:  NNP Token POS:  PROPN Token Explanation:  noun, proper singular\n",
            "Token:  , Token Tag:  , Token POS:  PUNCT Token Explanation:  punctuation mark, comma\n",
            "Token:  to Token Tag:  TO Token POS:  PART Token Explanation:  infinitival \"to\"\n",
            "Token:  become Token Tag:  VB Token POS:  VERB Token Explanation:  verb, base form\n",
            "Token:  the Token Tag:  DT Token POS:  DET Token Explanation:  determiner\n",
            "Token:  youngest Token Tag:  JJS Token POS:  ADJ Token Explanation:  adjective, superlative\n",
            "Token:  Indian Token Tag:  JJ Token POS:  ADJ Token Explanation:  adjective\n",
            "Token:  Prime Token Tag:  NNP Token POS:  PROPN Token Explanation:  noun, proper singular\n",
            "Token:  minister Token Tag:  NN Token POS:  NOUN Token Explanation:  noun, singular or mass\n",
            "Token:  at Token Tag:  IN Token POS:  ADP Token Explanation:  conjunction, subordinating or preposition\n",
            "Token:  the Token Tag:  DT Token POS:  DET Token Explanation:  determiner\n",
            "Token:  age Token Tag:  NN Token POS:  NOUN Token Explanation:  noun, singular or mass\n",
            "Token:  of Token Tag:  IN Token POS:  ADP Token Explanation:  conjunction, subordinating or preposition\n",
            "Token:  40 Token Tag:  CD Token POS:  NUM Token Explanation:  cardinal number\n",
            "Token:  . Token Tag:  . Token POS:  PUNCT Token Explanation:  punctuation mark, sentence closer\n",
            "Token:  Gandhi Token Tag:  NNP Token POS:  PROPN Token Explanation:  noun, proper singular\n",
            "Token:  was Token Tag:  VBD Token POS:  AUX Token Explanation:  verb, past tense\n",
            "Token:  from Token Tag:  IN Token POS:  ADP Token Explanation:  conjunction, subordinating or preposition\n",
            "Token:  the Token Tag:  DT Token POS:  DET Token Explanation:  determiner\n",
            "Token:  politically Token Tag:  RB Token POS:  ADV Token Explanation:  adverb\n",
            "Token:  powerful Token Tag:  JJ Token POS:  ADJ Token Explanation:  adjective\n",
            "Token:  Nehru Token Tag:  NNP Token POS:  PROPN Token Explanation:  noun, proper singular\n",
            "Token:  – Token Tag:  : Token POS:  PUNCT Token Explanation:  punctuation mark, colon or ellipsis\n",
            "Token:  Gandhi Token Tag:  NNP Token POS:  PROPN Token Explanation:  noun, proper singular\n",
            "Token:  family Token Tag:  NN Token POS:  NOUN Token Explanation:  noun, singular or mass\n",
            "Token:  , Token Tag:  , Token POS:  PUNCT Token Explanation:  punctuation mark, comma\n",
            "Token:  which Token Tag:  WDT Token POS:  DET Token Explanation:  wh-determiner\n",
            "Token:  had Token Tag:  VBD Token POS:  AUX Token Explanation:  verb, past tense\n",
            "Token:  been Token Tag:  VBN Token POS:  AUX Token Explanation:  verb, past participle\n",
            "Token:  associated Token Tag:  VBN Token POS:  VERB Token Explanation:  verb, past participle\n",
            "Token:  with Token Tag:  IN Token POS:  ADP Token Explanation:  conjunction, subordinating or preposition\n",
            "Token:  the Token Tag:  DT Token POS:  DET Token Explanation:  determiner\n",
            "Token:  Indian Token Tag:  NNP Token POS:  PROPN Token Explanation:  noun, proper singular\n",
            "Token:  National Token Tag:  NNP Token POS:  PROPN Token Explanation:  noun, proper singular\n",
            "Token:  Congress Token Tag:  NNP Token POS:  PROPN Token Explanation:  noun, proper singular\n",
            "Token:  party Token Tag:  NN Token POS:  NOUN Token Explanation:  noun, singular or mass\n",
            "Token:  . Token Tag:  . Token POS:  PUNCT Token Explanation:  punctuation mark, sentence closer\n",
            "Token:  For Token Tag:  IN Token POS:  ADP Token Explanation:  conjunction, subordinating or preposition\n",
            "Token:  much Token Tag:  JJ Token POS:  ADJ Token Explanation:  adjective\n",
            "Token:  of Token Tag:  IN Token POS:  ADP Token Explanation:  conjunction, subordinating or preposition\n",
            "Token:  his Token Tag:  PRP$ Token POS:  DET Token Explanation:  pronoun, possessive\n",
            "Token:  childhood Token Tag:  NN Token POS:  NOUN Token Explanation:  noun, singular or mass\n",
            "Token:  , Token Tag:  , Token POS:  PUNCT Token Explanation:  punctuation mark, comma\n",
            "Token:  his Token Tag:  PRP$ Token POS:  DET Token Explanation:  pronoun, possessive\n",
            "Token:  maternal Token Tag:  JJ Token POS:  ADJ Token Explanation:  adjective\n",
            "Token:  grandfather Token Tag:  NN Token POS:  NOUN Token Explanation:  noun, singular or mass\n",
            "Token:  Jawaharlal Token Tag:  NNP Token POS:  PROPN Token Explanation:  noun, proper singular\n",
            "Token:  Nehru Token Tag:  NNP Token POS:  PROPN Token Explanation:  noun, proper singular\n",
            "Token:  was Token Tag:  VBD Token POS:  AUX Token Explanation:  verb, past tense\n",
            "Token:  prime Token Tag:  JJ Token POS:  ADJ Token Explanation:  adjective\n",
            "Token:  minister Token Tag:  NN Token POS:  NOUN Token Explanation:  noun, singular or mass\n",
            "Token:  . Token Tag:  . Token POS:  PUNCT Token Explanation:  punctuation mark, sentence closer\n",
            "Token:  Gandhi Token Tag:  NNP Token POS:  PROPN Token Explanation:  noun, proper singular\n",
            "Token:  attended Token Tag:  VBD Token POS:  VERB Token Explanation:  verb, past tense\n",
            "Token:  college Token Tag:  NN Token POS:  NOUN Token Explanation:  noun, singular or mass\n",
            "Token:  in Token Tag:  IN Token POS:  ADP Token Explanation:  conjunction, subordinating or preposition\n",
            "Token:  the Token Tag:  DT Token POS:  DET Token Explanation:  determiner\n",
            "Token:  United Token Tag:  NNP Token POS:  PROPN Token Explanation:  noun, proper singular\n",
            "Token:  Kingdom Token Tag:  NNP Token POS:  PROPN Token Explanation:  noun, proper singular\n",
            "Token:  . Token Tag:  . Token POS:  PUNCT Token Explanation:  punctuation mark, sentence closer\n",
            "Token:  He Token Tag:  PRP Token POS:  PRON Token Explanation:  pronoun, personal\n",
            "Token:  returned Token Tag:  VBD Token POS:  VERB Token Explanation:  verb, past tense\n",
            "Token:  to Token Tag:  IN Token POS:  ADP Token Explanation:  conjunction, subordinating or preposition\n",
            "Token:  India Token Tag:  NNP Token POS:  PROPN Token Explanation:  noun, proper singular\n",
            "Token:  in Token Tag:  IN Token POS:  ADP Token Explanation:  conjunction, subordinating or preposition\n",
            "Token:  1966 Token Tag:  CD Token POS:  NUM Token Explanation:  cardinal number\n",
            "Token:  and Token Tag:  CC Token POS:  CCONJ Token Explanation:  conjunction, coordinating\n",
            "Token:  became Token Tag:  VBD Token POS:  VERB Token Explanation:  verb, past tense\n",
            "Token:  a Token Tag:  DT Token POS:  DET Token Explanation:  determiner\n",
            "Token:  professional Token Tag:  JJ Token POS:  ADJ Token Explanation:  adjective\n",
            "Token:  pilot Token Tag:  NN Token POS:  NOUN Token Explanation:  noun, singular or mass\n",
            "Token:  for Token Tag:  IN Token POS:  ADP Token Explanation:  conjunction, subordinating or preposition\n",
            "Token:  the Token Tag:  DT Token POS:  DET Token Explanation:  determiner\n",
            "Token:  state Token Tag:  NN Token POS:  NOUN Token Explanation:  noun, singular or mass\n",
            "Token:  - Token Tag:  HYPH Token POS:  PUNCT Token Explanation:  punctuation mark, hyphen\n",
            "Token:  owned Token Tag:  VBN Token POS:  VERB Token Explanation:  verb, past participle\n",
            "Token:  Indian Token Tag:  NNP Token POS:  PROPN Token Explanation:  noun, proper singular\n",
            "Token:  Airlines Token Tag:  NNPS Token POS:  PROPN Token Explanation:  noun, proper plural\n",
            "Token:  . Token Tag:  . Token POS:  PUNCT Token Explanation:  punctuation mark, sentence closer\n",
            "Token:  In Token Tag:  IN Token POS:  ADP Token Explanation:  conjunction, subordinating or preposition\n",
            "Token:  1968 Token Tag:  CD Token POS:  NUM Token Explanation:  cardinal number\n",
            "Token:  , Token Tag:  , Token POS:  PUNCT Token Explanation:  punctuation mark, comma\n",
            "Token:  he Token Tag:  PRP Token POS:  PRON Token Explanation:  pronoun, personal\n",
            "Token:  married Token Tag:  VBD Token POS:  VERB Token Explanation:  verb, past tense\n",
            "Token:  Sonia Token Tag:  NNP Token POS:  PROPN Token Explanation:  noun, proper singular\n",
            "Token:  Gandhi Token Tag:  NNP Token POS:  PROPN Token Explanation:  noun, proper singular\n",
            "Token:  ; Token Tag:  : Token POS:  PUNCT Token Explanation:  punctuation mark, colon or ellipsis\n",
            "Token:  the Token Tag:  DT Token POS:  DET Token Explanation:  determiner\n",
            "Token:  couple Token Tag:  NN Token POS:  NOUN Token Explanation:  noun, singular or mass\n",
            "Token:  settled Token Tag:  VBD Token POS:  VERB Token Explanation:  verb, past tense\n",
            "Token:  in Token Tag:  IN Token POS:  ADP Token Explanation:  conjunction, subordinating or preposition\n",
            "Token:  Delhi Token Tag:  NNP Token POS:  PROPN Token Explanation:  noun, proper singular\n",
            "Token:  to Token Tag:  IN Token POS:  ADP Token Explanation:  conjunction, subordinating or preposition\n",
            "Token:  a Token Tag:  DT Token POS:  DET Token Explanation:  determiner\n",
            "Token:  domestic Token Tag:  JJ Token POS:  ADJ Token Explanation:  adjective\n",
            "Token:  life Token Tag:  NN Token POS:  NOUN Token Explanation:  noun, singular or mass\n",
            "Token:  with Token Tag:  IN Token POS:  ADP Token Explanation:  conjunction, subordinating or preposition\n",
            "Token:  their Token Tag:  PRP$ Token POS:  DET Token Explanation:  pronoun, possessive\n",
            "Token:  children Token Tag:  NNS Token POS:  NOUN Token Explanation:  noun, plural\n",
            "Token:  Rahul Token Tag:  NNP Token POS:  PROPN Token Explanation:  noun, proper singular\n",
            "Token:  Gandhi Token Tag:  NNP Token POS:  PROPN Token Explanation:  noun, proper singular\n",
            "Token:  and Token Tag:  CC Token POS:  CCONJ Token Explanation:  conjunction, coordinating\n",
            "Token:  Priyanka Token Tag:  NNP Token POS:  PROPN Token Explanation:  noun, proper singular\n",
            "Token:  Gandhi Token Tag:  NNP Token POS:  PROPN Token Explanation:  noun, proper singular\n",
            "Token:  Vadra Token Tag:  NNP Token POS:  PROPN Token Explanation:  noun, proper singular\n",
            "Token:  . Token Tag:  . Token POS:  PUNCT Token Explanation:  punctuation mark, sentence closer\n",
            "Token:  For Token Tag:  IN Token POS:  ADP Token Explanation:  conjunction, subordinating or preposition\n",
            "Token:  much Token Tag:  JJ Token POS:  ADJ Token Explanation:  adjective\n",
            "Token:  of Token Tag:  IN Token POS:  ADP Token Explanation:  conjunction, subordinating or preposition\n",
            "Token:  the Token Tag:  DT Token POS:  DET Token Explanation:  determiner\n",
            "Token:  1970s Token Tag:  NNS Token POS:  NOUN Token Explanation:  noun, plural\n",
            "Token:  , Token Tag:  , Token POS:  PUNCT Token Explanation:  punctuation mark, comma\n",
            "Token:  his Token Tag:  PRP$ Token POS:  DET Token Explanation:  pronoun, possessive\n",
            "Token:  mother Token Tag:  NN Token POS:  NOUN Token Explanation:  noun, singular or mass\n",
            "Token:  Indira Token Tag:  NNP Token POS:  PROPN Token Explanation:  noun, proper singular\n",
            "Token:  Gandhi Token Tag:  NNP Token POS:  PROPN Token Explanation:  noun, proper singular\n",
            "Token:  was Token Tag:  VBD Token POS:  AUX Token Explanation:  verb, past tense\n",
            "Token:  prime Token Tag:  JJ Token POS:  ADJ Token Explanation:  adjective\n",
            "Token:  minister Token Tag:  NN Token POS:  NOUN Token Explanation:  noun, singular or mass\n",
            "Token:  and Token Tag:  CC Token POS:  CCONJ Token Explanation:  conjunction, coordinating\n",
            "Token:  his Token Tag:  PRP$ Token POS:  DET Token Explanation:  pronoun, possessive\n",
            "Token:  brother Token Tag:  NN Token POS:  NOUN Token Explanation:  noun, singular or mass\n",
            "Token:  Sanjay Token Tag:  NNP Token POS:  PROPN Token Explanation:  noun, proper singular\n",
            "Token:  Gandhi Token Tag:  NNP Token POS:  PROPN Token Explanation:  noun, proper singular\n",
            "Token:  an Token Tag:  DT Token POS:  DET Token Explanation:  determiner\n",
            "Token:  MP Token Tag:  NNP Token POS:  PROPN Token Explanation:  noun, proper singular\n",
            "Token:  ; Token Tag:  : Token POS:  PUNCT Token Explanation:  punctuation mark, colon or ellipsis\n",
            "Token:  despite Token Tag:  IN Token POS:  SCONJ Token Explanation:  conjunction, subordinating or preposition\n",
            "Token:  this Token Tag:  DT Token POS:  DET Token Explanation:  determiner\n",
            "Token:  , Token Tag:  , Token POS:  PUNCT Token Explanation:  punctuation mark, comma\n",
            "Token:  Rajiv Token Tag:  NNP Token POS:  PROPN Token Explanation:  noun, proper singular\n",
            "Token:  Gandhi Token Tag:  NNP Token POS:  PROPN Token Explanation:  noun, proper singular\n",
            "Token:  remained Token Tag:  VBD Token POS:  VERB Token Explanation:  verb, past tense\n",
            "Token:  apolitical Token Tag:  JJ Token POS:  ADJ Token Explanation:  adjective\n",
            "Token:  . Token Tag:  . Token POS:  PUNCT Token Explanation:  punctuation mark, sentence closer\n",
            "Token:  After Token Tag:  IN Token POS:  ADP Token Explanation:  conjunction, subordinating or preposition\n",
            "Token:  Sanjay Token Tag:  NNP Token POS:  PROPN Token Explanation:  noun, proper singular\n",
            "Token:  's Token Tag:  POS Token POS:  PART Token Explanation:  possessive ending\n",
            "Token:  death Token Tag:  NN Token POS:  NOUN Token Explanation:  noun, singular or mass\n",
            "Token:  in Token Tag:  IN Token POS:  ADP Token Explanation:  conjunction, subordinating or preposition\n",
            "Token:  a Token Tag:  DT Token POS:  DET Token Explanation:  determiner\n",
            "Token:  plane Token Tag:  NN Token POS:  NOUN Token Explanation:  noun, singular or mass\n",
            "Token:  crash Token Tag:  NN Token POS:  NOUN Token Explanation:  noun, singular or mass\n",
            "Token:  in Token Tag:  IN Token POS:  ADP Token Explanation:  conjunction, subordinating or preposition\n",
            "Token:  1980 Token Tag:  CD Token POS:  NUM Token Explanation:  cardinal number\n",
            "Token:  , Token Tag:  , Token POS:  PUNCT Token Explanation:  punctuation mark, comma\n",
            "Token:  Gandhi Token Tag:  NNP Token POS:  PROPN Token Explanation:  noun, proper singular\n",
            "Token:  reluctantly Token Tag:  RB Token POS:  ADV Token Explanation:  adverb\n",
            "Token:  entered Token Tag:  VBD Token POS:  VERB Token Explanation:  verb, past tense\n",
            "Token:  politics Token Tag:  NNS Token POS:  NOUN Token Explanation:  noun, plural\n",
            "Token:  at Token Tag:  IN Token POS:  ADP Token Explanation:  conjunction, subordinating or preposition\n",
            "Token:  the Token Tag:  DT Token POS:  DET Token Explanation:  determiner\n",
            "Token:  behest Token Tag:  NN Token POS:  NOUN Token Explanation:  noun, singular or mass\n",
            "Token:  of Token Tag:  IN Token POS:  ADP Token Explanation:  conjunction, subordinating or preposition\n",
            "Token:  Indira Token Tag:  NNP Token POS:  PROPN Token Explanation:  noun, proper singular\n",
            "Token:  . Token Tag:  . Token POS:  PUNCT Token Explanation:  punctuation mark, sentence closer\n",
            "Token:  The Token Tag:  DT Token POS:  DET Token Explanation:  determiner\n",
            "Token:  following Token Tag:  JJ Token POS:  ADJ Token Explanation:  adjective\n",
            "Token:  year Token Tag:  NN Token POS:  NOUN Token Explanation:  noun, singular or mass\n",
            "Token:  he Token Tag:  PRP Token POS:  PRON Token Explanation:  pronoun, personal\n",
            "Token:  won Token Tag:  VBD Token POS:  VERB Token Explanation:  verb, past tense\n",
            "Token:  his Token Tag:  PRP$ Token POS:  DET Token Explanation:  pronoun, possessive\n",
            "Token:  brother Token Tag:  NN Token POS:  NOUN Token Explanation:  noun, singular or mass\n",
            "Token:  's Token Tag:  POS Token POS:  PART Token Explanation:  possessive ending\n",
            "Token:  Parliamentary Token Tag:  NNP Token POS:  PROPN Token Explanation:  noun, proper singular\n",
            "Token:  seat Token Tag:  NN Token POS:  NOUN Token Explanation:  noun, singular or mass\n",
            "Token:  of Token Tag:  IN Token POS:  ADP Token Explanation:  conjunction, subordinating or preposition\n",
            "Token:  Amethi Token Tag:  NNP Token POS:  PROPN Token Explanation:  noun, proper singular\n",
            "Token:  and Token Tag:  CC Token POS:  CCONJ Token Explanation:  conjunction, coordinating\n",
            "Token:  became Token Tag:  VBD Token POS:  VERB Token Explanation:  verb, past tense\n",
            "Token:  a Token Tag:  DT Token POS:  DET Token Explanation:  determiner\n",
            "Token:  member Token Tag:  NN Token POS:  NOUN Token Explanation:  noun, singular or mass\n",
            "Token:  of Token Tag:  IN Token POS:  ADP Token Explanation:  conjunction, subordinating or preposition\n",
            "Token:  the Token Tag:  DT Token POS:  DET Token Explanation:  determiner\n",
            "Token:  Lok Token Tag:  NNP Token POS:  PROPN Token Explanation:  noun, proper singular\n",
            "Token:  Sabha Token Tag:  NNP Token POS:  PROPN Token Explanation:  noun, proper singular\n",
            "Token:  — Token Tag:  : Token POS:  PUNCT Token Explanation:  punctuation mark, colon or ellipsis\n",
            "Token:  the Token Tag:  DT Token POS:  DET Token Explanation:  determiner\n",
            "Token:  lower Token Tag:  JJR Token POS:  ADJ Token Explanation:  adjective, comparative\n",
            "Token:  house Token Tag:  NN Token POS:  NOUN Token Explanation:  noun, singular or mass\n",
            "Token:  of Token Tag:  IN Token POS:  ADP Token Explanation:  conjunction, subordinating or preposition\n",
            "Token:  India Token Tag:  NNP Token POS:  PROPN Token Explanation:  noun, proper singular\n",
            "Token:  's Token Tag:  POS Token POS:  PART Token Explanation:  possessive ending\n",
            "Token:  Parliament Token Tag:  NNP Token POS:  PROPN Token Explanation:  noun, proper singular\n",
            "Token:  . Token Tag:  . Token POS:  PUNCT Token Explanation:  punctuation mark, sentence closer\n",
            "Token:  As Token Tag:  IN Token POS:  SCONJ Token Explanation:  conjunction, subordinating or preposition\n",
            "Token:  part Token Tag:  NN Token POS:  NOUN Token Explanation:  noun, singular or mass\n",
            "Token:  of Token Tag:  IN Token POS:  ADP Token Explanation:  conjunction, subordinating or preposition\n",
            "Token:  his Token Tag:  PRP$ Token POS:  DET Token Explanation:  pronoun, possessive\n",
            "Token:  political Token Tag:  JJ Token POS:  ADJ Token Explanation:  adjective\n",
            "Token:  grooming Token Tag:  NN Token POS:  NOUN Token Explanation:  noun, singular or mass\n",
            "Token:  , Token Tag:  , Token POS:  PUNCT Token Explanation:  punctuation mark, comma\n",
            "Token:  Rajiv Token Tag:  NNP Token POS:  PROPN Token Explanation:  noun, proper singular\n",
            "Token:  was Token Tag:  VBD Token POS:  AUX Token Explanation:  verb, past tense\n",
            "Token:  made Token Tag:  VBN Token POS:  VERB Token Explanation:  verb, past participle\n",
            "Token:  general Token Tag:  JJ Token POS:  ADJ Token Explanation:  adjective\n",
            "Token:  secretary Token Tag:  NN Token POS:  NOUN Token Explanation:  noun, singular or mass\n",
            "Token:  of Token Tag:  IN Token POS:  ADP Token Explanation:  conjunction, subordinating or preposition\n",
            "Token:  the Token Tag:  DT Token POS:  DET Token Explanation:  determiner\n",
            "Token:  Congress Token Tag:  NNP Token POS:  PROPN Token Explanation:  noun, proper singular\n",
            "Token:  party Token Tag:  NN Token POS:  NOUN Token Explanation:  noun, singular or mass\n",
            "Token:  and Token Tag:  CC Token POS:  CCONJ Token Explanation:  conjunction, coordinating\n",
            "Token:  given Token Tag:  VBN Token POS:  VERB Token Explanation:  verb, past participle\n",
            "Token:  significant Token Tag:  JJ Token POS:  ADJ Token Explanation:  adjective\n",
            "Token:  responsibility Token Tag:  NN Token POS:  NOUN Token Explanation:  noun, singular or mass\n",
            "Token:  in Token Tag:  IN Token POS:  ADP Token Explanation:  conjunction, subordinating or preposition\n",
            "Token:  organising Token Tag:  VBG Token POS:  VERB Token Explanation:  verb, gerund or present participle\n",
            "Token:  the Token Tag:  DT Token POS:  DET Token Explanation:  determiner\n",
            "Token:  1982 Token Tag:  CD Token POS:  NUM Token Explanation:  cardinal number\n",
            "Token:  Asian Token Tag:  NNP Token POS:  PROPN Token Explanation:  noun, proper singular\n",
            "Token:  Games Token Tag:  NNPS Token POS:  PROPN Token Explanation:  noun, proper plural\n"
          ]
        }
      ]
    },
    {
      "cell_type": "markdown",
      "source": [
        "**GENSIM**"
      ],
      "metadata": {
        "id": "aa3_vFiABQ_J"
      }
    },
    {
      "cell_type": "markdown",
      "source": [
        "Create a Corpus from a given dataset"
      ],
      "metadata": {
        "id": "eIK_U-22BUYW"
      }
    },
    {
      "cell_type": "markdown",
      "source": [
        "Datapreprocessing sentence tokenization, word tokenization, stopword removal"
      ],
      "metadata": {
        "id": "IIVHo4ZYBZ67"
      }
    },
    {
      "cell_type": "code",
      "source": [
        "doc = open(\"rg.txt\", encoding='utf-8')\n",
        "sent = doc.readline().split('.')\n",
        "print(sent)"
      ],
      "metadata": {
        "colab": {
          "base_uri": "https://localhost:8080/"
        },
        "id": "-G-rZb3jBfky",
        "outputId": "1e96f59b-0da6-4494-d99a-f9066e748690"
      },
      "execution_count": null,
      "outputs": [
        {
          "output_type": "stream",
          "name": "stdout",
          "text": [
            "['Rajiv Ratna Gandhi was an Indian politician who served as the sixth prime minister of India from 1984 to 1989', ' He took office after the 1984 assassination of his mother, then Prime Minister Indira Gandhi, to become the youngest Indian Prime minister at the age of 40', ' Gandhi was from the politically powerful Nehru–Gandhi family, which had been associated with the Indian National Congress party', ' For much of his childhood, his maternal grandfather Jawaharlal Nehru was prime minister', ' Gandhi attended college in the United Kingdom', ' He returned to India in 1966 and became a professional pilot for the state-owned Indian Airlines', ' In 1968, he married Sonia Gandhi; the couple settled in Delhi to a domestic life with their children Rahul Gandhi and Priyanka Gandhi Vadra', ' For much of the 1970s, his mother Indira Gandhi was prime minister and his brother Sanjay Gandhi an MP; despite this, Rajiv Gandhi remained apolitical', \" After Sanjay's death in a plane crash in 1980, Gandhi reluctantly entered politics at the behest of Indira\", \" The following year he won his brother's Parliamentary seat of Amethi and became a member of the Lok Sabha—the lower house of India's Parliament\", ' As part of his political grooming, Rajiv was made general secretary of the Congress party and given significant responsibility in organising the 1982 Asian Games']\n"
          ]
        }
      ]
    },
    {
      "cell_type": "code",
      "source": [
        "token = [i.split() for i in sent]\n",
        "stoplist = set('for a of the and to in'.split(' '))\n",
        "nonstoptoken = [[j for j in i if j.lower() not in stoplist] for i in token]\n",
        "print(nonstoptoken)\n",
        "\n",
        "#from genism.parsing.preprocessing import STOPWORDS, remove_stopwords\n",
        "#print(STOPWORDS)\n",
        "#remove_stopwords(\"Better late than never, but better never late.\")"
      ],
      "metadata": {
        "colab": {
          "base_uri": "https://localhost:8080/"
        },
        "id": "qkUD1PfXBAzs",
        "outputId": "b06c50d8-f6e0-4eb6-b027-7720e4892480"
      },
      "execution_count": null,
      "outputs": [
        {
          "output_type": "stream",
          "name": "stdout",
          "text": [
            "[['Rajiv', 'Ratna', 'Gandhi', 'was', 'an', 'Indian', 'politician', 'who', 'served', 'as', 'sixth', 'prime', 'minister', 'India', 'from', '1984', '1989'], ['He', 'took', 'office', 'after', '1984', 'assassination', 'his', 'mother,', 'then', 'Prime', 'Minister', 'Indira', 'Gandhi,', 'become', 'youngest', 'Indian', 'Prime', 'minister', 'at', 'age', '40'], ['Gandhi', 'was', 'from', 'politically', 'powerful', 'Nehru–Gandhi', 'family,', 'which', 'had', 'been', 'associated', 'with', 'Indian', 'National', 'Congress', 'party'], ['much', 'his', 'childhood,', 'his', 'maternal', 'grandfather', 'Jawaharlal', 'Nehru', 'was', 'prime', 'minister'], ['Gandhi', 'attended', 'college', 'United', 'Kingdom'], ['He', 'returned', 'India', '1966', 'became', 'professional', 'pilot', 'state-owned', 'Indian', 'Airlines'], ['1968,', 'he', 'married', 'Sonia', 'Gandhi;', 'couple', 'settled', 'Delhi', 'domestic', 'life', 'with', 'their', 'children', 'Rahul', 'Gandhi', 'Priyanka', 'Gandhi', 'Vadra'], ['much', '1970s,', 'his', 'mother', 'Indira', 'Gandhi', 'was', 'prime', 'minister', 'his', 'brother', 'Sanjay', 'Gandhi', 'an', 'MP;', 'despite', 'this,', 'Rajiv', 'Gandhi', 'remained', 'apolitical'], ['After', \"Sanjay's\", 'death', 'plane', 'crash', '1980,', 'Gandhi', 'reluctantly', 'entered', 'politics', 'at', 'behest', 'Indira'], ['following', 'year', 'he', 'won', 'his', \"brother's\", 'Parliamentary', 'seat', 'Amethi', 'became', 'member', 'Lok', 'Sabha—the', 'lower', 'house', \"India's\", 'Parliament'], ['As', 'part', 'his', 'political', 'grooming,', 'Rajiv', 'was', 'made', 'general', 'secretary', 'Congress', 'party', 'given', 'significant', 'responsibility', 'organising', '1982', 'Asian', 'Games']]\n"
          ]
        }
      ]
    },
    {
      "cell_type": "markdown",
      "source": [
        "**Creation of Corpus**"
      ],
      "metadata": {
        "id": "l3DEPd0qCpz7"
      }
    },
    {
      "cell_type": "code",
      "source": [
        "from gensim import corpora\n",
        "\n",
        "dictionary = corpora.Dictionary(nonstoptoken)\n",
        "print(dictionary)\n",
        "print(dictionary[0])\n",
        "print(dictionary[124])"
      ],
      "metadata": {
        "colab": {
          "base_uri": "https://localhost:8080/"
        },
        "id": "3-itq4i4Che3",
        "outputId": "c6589cdc-b858-404d-ebab-b679839e5792"
      },
      "execution_count": null,
      "outputs": [
        {
          "output_type": "stream",
          "name": "stdout",
          "text": [
            "Dictionary(125 unique tokens: ['1984', '1989', 'Gandhi', 'India', 'Indian']...)\n",
            "1984\n",
            "significant\n"
          ]
        }
      ]
    },
    {
      "cell_type": "markdown",
      "source": [
        "**Saving Dictionary and Loading Dictionary**"
      ],
      "metadata": {
        "id": "qyr83_YdDZsT"
      }
    },
    {
      "cell_type": "code",
      "source": [
        "dictionary.save(\"my_dictionary.dict\")\n",
        "\n",
        "load_dict = corpora.Dictionary.load(\"my_dictionary.dict\")\n",
        "print(load_dict)"
      ],
      "metadata": {
        "colab": {
          "base_uri": "https://localhost:8080/"
        },
        "id": "EMXrumPSDIUq",
        "outputId": "126817dd-509e-439f-c365-148aeac5abf1"
      },
      "execution_count": null,
      "outputs": [
        {
          "output_type": "stream",
          "name": "stdout",
          "text": [
            "Dictionary(125 unique tokens: ['1984', '1989', 'Gandhi', 'India', 'Indian']...)\n"
          ]
        }
      ]
    },
    {
      "cell_type": "markdown",
      "source": [
        "**Create Bag of Words for given Document**"
      ],
      "metadata": {
        "id": "GkgOFMukD0rS"
      }
    },
    {
      "cell_type": "code",
      "source": [
        "BoW_corpus = [dictionary.doc2bow(text) for text in nonstoptoken]\n",
        "print(BoW_corpus)"
      ],
      "metadata": {
        "colab": {
          "base_uri": "https://localhost:8080/"
        },
        "id": "DBWCZvdaD4t4",
        "outputId": "4c1c86d8-d73b-4fd7-e4f7-16948adab0ce"
      },
      "execution_count": null,
      "outputs": [
        {
          "output_type": "stream",
          "name": "stdout",
          "text": [
            "[[(0, 1), (1, 1), (2, 1), (3, 1), (4, 1), (5, 1), (6, 1), (7, 1), (8, 1), (9, 1), (10, 1), (11, 1), (12, 1), (13, 1), (14, 1), (15, 1), (16, 1)], [(0, 1), (4, 1), (10, 1), (17, 1), (18, 1), (19, 1), (20, 1), (21, 1), (22, 2), (23, 1), (24, 1), (25, 1), (26, 1), (27, 1), (28, 1), (29, 1), (30, 1), (31, 1), (32, 1), (33, 1)], [(2, 1), (4, 1), (9, 1), (15, 1), (34, 1), (35, 1), (36, 1), (37, 1), (38, 1), (39, 1), (40, 1), (41, 1), (42, 1), (43, 1), (44, 1), (45, 1)], [(10, 1), (12, 1), (15, 1), (28, 2), (46, 1), (47, 1), (48, 1), (49, 1), (50, 1), (51, 1)], [(2, 1), (52, 1), (53, 1), (54, 1), (55, 1)], [(3, 1), (4, 1), (19, 1), (56, 1), (57, 1), (58, 1), (59, 1), (60, 1), (61, 1), (62, 1)], [(2, 2), (45, 1), (63, 1), (64, 1), (65, 1), (66, 1), (67, 1), (68, 1), (69, 1), (70, 1), (71, 1), (72, 1), (73, 1), (74, 1), (75, 1), (76, 1), (77, 1)], [(2, 3), (5, 1), (7, 1), (10, 1), (12, 1), (15, 1), (20, 1), (28, 2), (51, 1), (78, 1), (79, 1), (80, 1), (81, 1), (82, 1), (83, 1), (84, 1), (85, 1), (86, 1)], [(2, 1), (20, 1), (26, 1), (87, 1), (88, 1), (89, 1), (90, 1), (91, 1), (92, 1), (93, 1), (94, 1), (95, 1), (96, 1)], [(28, 1), (58, 1), (73, 1), (97, 1), (98, 1), (99, 1), (100, 1), (101, 1), (102, 1), (103, 1), (104, 1), (105, 1), (106, 1), (107, 1), (108, 1), (109, 1), (110, 1)], [(5, 1), (15, 1), (28, 1), (34, 1), (41, 1), (111, 1), (112, 1), (113, 1), (114, 1), (115, 1), (116, 1), (117, 1), (118, 1), (119, 1), (120, 1), (121, 1), (122, 1), (123, 1), (124, 1)]]\n"
          ]
        }
      ]
    },
    {
      "cell_type": "code",
      "source": [
        "id_words = [[(dictionary[id], count) for id, count in line] for line in BoW_corpus]\n",
        "print(id_words)"
      ],
      "metadata": {
        "colab": {
          "base_uri": "https://localhost:8080/"
        },
        "id": "ZzTxU3l7Dtzr",
        "outputId": "72d6a59a-4b17-4046-e914-a01e836782a1"
      },
      "execution_count": null,
      "outputs": [
        {
          "output_type": "stream",
          "name": "stdout",
          "text": [
            "[[('1984', 1), ('1989', 1), ('Gandhi', 1), ('India', 1), ('Indian', 1), ('Rajiv', 1), ('Ratna', 1), ('an', 1), ('as', 1), ('from', 1), ('minister', 1), ('politician', 1), ('prime', 1), ('served', 1), ('sixth', 1), ('was', 1), ('who', 1)], [('1984', 1), ('Indian', 1), ('minister', 1), ('40', 1), ('Gandhi,', 1), ('He', 1), ('Indira', 1), ('Minister', 1), ('Prime', 2), ('after', 1), ('age', 1), ('assassination', 1), ('at', 1), ('become', 1), ('his', 1), ('mother,', 1), ('office', 1), ('then', 1), ('took', 1), ('youngest', 1)], [('Gandhi', 1), ('Indian', 1), ('from', 1), ('was', 1), ('Congress', 1), ('National', 1), ('Nehru–Gandhi', 1), ('associated', 1), ('been', 1), ('family,', 1), ('had', 1), ('party', 1), ('politically', 1), ('powerful', 1), ('which', 1), ('with', 1)], [('minister', 1), ('prime', 1), ('was', 1), ('his', 2), ('Jawaharlal', 1), ('Nehru', 1), ('childhood,', 1), ('grandfather', 1), ('maternal', 1), ('much', 1)], [('Gandhi', 1), ('Kingdom', 1), ('United', 1), ('attended', 1), ('college', 1)], [('India', 1), ('Indian', 1), ('He', 1), ('1966', 1), ('Airlines', 1), ('became', 1), ('pilot', 1), ('professional', 1), ('returned', 1), ('state-owned', 1)], [('Gandhi', 2), ('with', 1), ('1968,', 1), ('Delhi', 1), ('Gandhi;', 1), ('Priyanka', 1), ('Rahul', 1), ('Sonia', 1), ('Vadra', 1), ('children', 1), ('couple', 1), ('domestic', 1), ('he', 1), ('life', 1), ('married', 1), ('settled', 1), ('their', 1)], [('Gandhi', 3), ('Rajiv', 1), ('an', 1), ('minister', 1), ('prime', 1), ('was', 1), ('Indira', 1), ('his', 2), ('much', 1), ('1970s,', 1), ('MP;', 1), ('Sanjay', 1), ('apolitical', 1), ('brother', 1), ('despite', 1), ('mother', 1), ('remained', 1), ('this,', 1)], [('Gandhi', 1), ('Indira', 1), ('at', 1), ('1980,', 1), ('After', 1), (\"Sanjay's\", 1), ('behest', 1), ('crash', 1), ('death', 1), ('entered', 1), ('plane', 1), ('politics', 1), ('reluctantly', 1)], [('his', 1), ('became', 1), ('he', 1), ('Amethi', 1), (\"India's\", 1), ('Lok', 1), ('Parliament', 1), ('Parliamentary', 1), ('Sabha—the', 1), (\"brother's\", 1), ('following', 1), ('house', 1), ('lower', 1), ('member', 1), ('seat', 1), ('won', 1), ('year', 1)], [('Rajiv', 1), ('was', 1), ('his', 1), ('Congress', 1), ('party', 1), ('1982', 1), ('As', 1), ('Asian', 1), ('Games', 1), ('general', 1), ('given', 1), ('grooming,', 1), ('made', 1), ('organising', 1), ('part', 1), ('political', 1), ('responsibility', 1), ('secretary', 1), ('significant', 1)]]\n"
          ]
        }
      ]
    },
    {
      "cell_type": "markdown",
      "source": [
        "**Using the WordNet Library**"
      ],
      "metadata": {
        "id": "EFOvx7tUEc0z"
      }
    },
    {
      "cell_type": "code",
      "source": [
        "#Understanding SYNSETS\n",
        "\n",
        "from nltk.corpus import wordnet\n",
        "syn = wordnet.synsets('train')[0]\n",
        "\n",
        "print(\"Synset name : \", syn.name())\n",
        "\n",
        "#Defining the word\n",
        "print(\"\\nSynset meaning\")"
      ],
      "metadata": {
        "colab": {
          "base_uri": "https://localhost:8080/"
        },
        "id": "J0iyHge1EVl4",
        "outputId": "d14621d0-3b41-4196-a418-a6dc675211b0"
      },
      "execution_count": null,
      "outputs": [
        {
          "output_type": "stream",
          "name": "stdout",
          "text": [
            "Synset name :  train.n.01\n",
            "\n",
            "Synset meaning\n"
          ]
        }
      ]
    },
    {
      "cell_type": "code",
      "source": [
        "#POS Tagging in SYNSETS\n",
        "\n",
        "syn = wordnet.synsets('hello')[0]\n",
        "print(\"Syn tag : \", syn.pos())\n",
        "\n",
        "syn = wordnet.synsets('doing')[0]\n",
        "print(\"Syn tag : \", syn.pos())\n",
        "\n",
        "syn = wordnet.synsets('beautiful')[0]\n",
        "print(\"Syn tag : \", syn.pos())\n",
        "\n",
        "syn = wordnet.synsets('quickly')[0]\n",
        "print(\"Syn tag : \", syn.pos())"
      ],
      "metadata": {
        "colab": {
          "base_uri": "https://localhost:8080/"
        },
        "id": "aO1MGt5uFc4x",
        "outputId": "988fcc26-f33c-4c63-c9c5-197b1ddcbb7a"
      },
      "execution_count": null,
      "outputs": [
        {
          "output_type": "stream",
          "name": "stdout",
          "text": [
            "Syn tag :  n\n",
            "Syn tag :  v\n",
            "Syn tag :  a\n",
            "Syn tag :  r\n"
          ]
        }
      ]
    },
    {
      "cell_type": "code",
      "source": [
        "#hypernyms and hyponyms\n",
        "\n",
        "from nltk.corpus import wordnet\n",
        "\n",
        "syn = wordnet.synsets('train')[0]\n",
        "\n",
        "print(\"Synset name : \", syn.name())\n"
      ],
      "metadata": {
        "colab": {
          "base_uri": "https://localhost:8080/"
        },
        "id": "CceAAyJ9F-5_",
        "outputId": "9f8a980a-e263-4db6-b63c-edacf27ab4fe"
      },
      "execution_count": null,
      "outputs": [
        {
          "output_type": "stream",
          "name": "stdout",
          "text": [
            "Synset name :  train.n.01\n"
          ]
        }
      ]
    },
    {
      "cell_type": "code",
      "source": [
        ""
      ],
      "metadata": {
        "id": "L0ip8IgJF0Ps"
      },
      "execution_count": null,
      "outputs": []
    }
  ]
}